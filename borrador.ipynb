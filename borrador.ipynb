{
 "cells": [
  {
   "cell_type": "code",
   "execution_count": null,
   "metadata": {},
   "outputs": [],
   "source": []
  },
  {
   "cell_type": "markdown",
   "metadata": {},
   "source": [
    "Las altas inversiones en marketing on-line\n",
    "\n",
    "\n",
    "Cada vez más empresas (especialmente empresas de comercio electrónico) tienen un interés y demanda cada vez mayores por utilizar sus datos para comprender cómo los clientes interactúan con la empresa e interactúan con diferentes productos en el tiempo.\n",
    "A.1 Por un lado, conocer al cliente es crítico, por lo general, es más caro adquirir nuevos clientes que mantener los clientes existentes. Conocer \"el valor de vida\" del cliente existentes permite construir estrategias de marketing con ROI positivo.\n",
    "A.2 Además, comprender el comportamiento de ciertos subgrupos de la base de clientes, permitirá alinear las necesidades e intereses de esos clientes con los productos, servicios o contenido de la empresa.\n",
    "\n",
    "Entonces el problema que se busca resolver es:\n",
    "\n",
    "B. Conocer \n",
    "A traves del análisis riguroso de productos es posible ayudar a las empresas en mejorar la participación de los usuarios y las tasas de conversión, lo que en última instancia conduce a mayores ganancias. \n",
    "\n",
    "* El análisis de productos es un método que se relaciona con la forma en que los clientes interactúan e interactúan con los productos proporcionados, el rendimiento de los diferentes productos y ciertas debilidades y ventajas que se pueden observar en la empresa. El objetivo final del análisis de productos es establecer conocimientos e informes viables, que ayuden a optimizar y mejorar el rendimiento del producto, generando nuevas ideas de marketing o productos basadas en los resultados obtenidos. \n",
    "* La construcción de un sistema de recomendación de productos con el que podemos dirigirnos mejor a los clientes de manera personalizada, han demostrado mejoras las tasas de conversión y de retención de clientes.\n",
    "* Por lo general, es más caro adquirir nuevos clientes que mantener los clientes existentes, por lo que conocer el valor de por vida y los costos asociados con la adquisición de nuevos clientes es esencial para construir estrategias de marketing con ROI positivo.\n",
    "\n",
    "\n",
    "# Objetivos:\n",
    "Kit de herramientas de soporte en decisiones comerciales y marketing\n",
    "Para ello, trabajamos sobre los clientes, productos y precios.\n",
    "\n",
    "## Clientes\n",
    "* CLV (Ciclo de vida del Valor cliente)\n",
    "* Segmentación de los clientes disponibles\n",
    "\n",
    "## Productos\n",
    "* El análisis de productos comienza con el seguimiento de eventos. Estos eventos pueden ser las visitas al sitio web del cliente, las páginas vistas, el historial del navegador, las compras o cualquier otra acción que el cliente pueda realizar en los productos que usted ofrece. Luego, podemos comenzar a analizar y visualizar cualquier patrón observable en estos eventos, con el objetivo de crear información o informes procesables.\n",
    "* "
   ]
  }
 ],
 "metadata": {
  "language_info": {
   "name": "python"
  },
  "orig_nbformat": 4
 },
 "nbformat": 4,
 "nbformat_minor": 2
}
