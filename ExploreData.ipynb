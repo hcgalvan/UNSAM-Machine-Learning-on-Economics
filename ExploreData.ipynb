{
 "cells": [
  {
   "cell_type": "code",
   "execution_count": 1,
   "source": [
    "# Análisis Exploratorio de Datos"
   ],
   "outputs": [],
   "metadata": {}
  },
  {
   "cell_type": "markdown",
   "source": [],
   "metadata": {}
  },
  {
   "cell_type": "code",
   "execution_count": null,
   "source": [
    "# Python ≥3.5 is required\r\n",
    "import sys\r\n",
    "assert sys.version_info >= (3, 5)\r\n",
    "\r\n",
    "# Scikit-Learn ≥0.20 is required\r\n",
    "import sklearn\r\n",
    "assert sklearn.__version__ >= \"0.20\"\r\n",
    "\r\n",
    "# Common imports\r\n",
    "import numpy as np\r\n",
    "import os\r\n",
    "\r\n",
    "# To plot pretty figures\r\n",
    "%matplotlib inline\r\n",
    "import matplotlib as mpl\r\n",
    "import matplotlib.pyplot as plt\r\n",
    "%matplotlib inline\r\n",
    "mpl.rc('axes', labelsize=14)\r\n",
    "mpl.rc('xtick', labelsize=12)\r\n",
    "mpl.rc('ytick', labelsize=12)\r\n",
    "\r\n",
    "# Where to save the figures\r\n",
    "PROJECT_ROOT_DIR = \".\"\r\n",
    "CHAPTER_ID = \"01_AED\"\r\n",
    "IMAGES_PATH = os.path.join(PROJECT_ROOT_DIR, \"images\", CHAPTER_ID)\r\n",
    "os.makedirs(IMAGES_PATH, exist_ok=True)\r\n",
    "\r\n",
    "def save_fig(fig_id, tight_layout=True, fig_extension=\"png\", resolution=300):\r\n",
    "    path = os.path.join(IMAGES_PATH, fig_id + \".\" + fig_extension)\r\n",
    "    print(\"Saving figure\", fig_id)\r\n",
    "    if tight_layout:\r\n",
    "        plt.tight_layout()\r\n",
    "    plt.savefig(path, format=fig_extension, dpi=resolution)\r\n",
    "\r\n",
    "# Ignore useless warnings (see SciPy issue #5998)\r\n",
    "import warnings\r\n",
    "warnings.filterwarnings(action=\"ignore\", message=\"^internal gelsd\")\r\n",
    "\r\n",
    "print('Terminé de correr la primera celda')"
   ],
   "outputs": [],
   "metadata": {}
  },
  {
   "cell_type": "code",
   "execution_count": null,
   "source": [],
   "outputs": [],
   "metadata": {}
  }
 ],
 "metadata": {
  "orig_nbformat": 4,
  "language_info": {
   "name": "python",
   "version": "3.9.5",
   "mimetype": "text/x-python",
   "codemirror_mode": {
    "name": "ipython",
    "version": 3
   },
   "pygments_lexer": "ipython3",
   "nbconvert_exporter": "python",
   "file_extension": ".py"
  },
  "kernelspec": {
   "name": "python3",
   "display_name": "Python 3.9.5 64-bit"
  },
  "interpreter": {
   "hash": "ac59ebe37160ed0dfa835113d9b8498d9f09ceb179beaac4002f036b9467c963"
  }
 },
 "nbformat": 4,
 "nbformat_minor": 2
}