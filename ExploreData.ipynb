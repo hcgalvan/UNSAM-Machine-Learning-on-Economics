{
  "nbformat": 4,
  "nbformat_minor": 0,
  "metadata": {
    "orig_nbformat": 4,
    "language_info": {
      "name": "python",
      "version": "3.9.5",
      "mimetype": "text/x-python",
      "codemirror_mode": {
        "name": "ipython",
        "version": 3
      },
      "pygments_lexer": "ipython3",
      "nbconvert_exporter": "python",
      "file_extension": ".py"
    },
    "kernelspec": {
      "name": "python3",
      "display_name": "Python 3.9.5 64-bit"
    },
    "interpreter": {
      "hash": "ac59ebe37160ed0dfa835113d9b8498d9f09ceb179beaac4002f036b9467c963"
    },
    "colab": {
      "name": "ExploreData.ipynb",
      "provenance": [],
      "toc_visible": true
    }
  },
  "cells": [
    {
      "cell_type": "markdown",
      "metadata": {
        "id": "vaHCav2z4yJU"
      },
      "source": [
        "# Cargando Entorno"
      ]
    },
    {
      "cell_type": "code",
      "metadata": {
        "id": "AguaTJr_4yJZ",
        "outputId": "0fb39323-3144-4753-ddea-c4758f915d86",
        "colab": {
          "base_uri": "https://localhost:8080/"
        }
      },
      "source": [
        "# Python ≥3.5 is required\n",
        "import sys\n",
        "assert sys.version_info >= (3, 5)\n",
        "\n",
        "# Scikit-Learn ≥0.20 is required\n",
        "import sklearn\n",
        "assert sklearn.__version__ >= \"0.20\"\n",
        "\n",
        "# Common imports\n",
        "import numpy as np\n",
        "import os\n",
        "import pandas as pd\n",
        "\n",
        "# To plot pretty figures\n",
        "%matplotlib inline\n",
        "import matplotlib as mpl\n",
        "import matplotlib.pyplot as plt\n",
        "%matplotlib inline\n",
        "mpl.rc('axes', labelsize=14)\n",
        "mpl.rc('xtick', labelsize=12)\n",
        "mpl.rc('ytick', labelsize=12)\n",
        "\n",
        "# Where to save the figures\n",
        "PROJECT_ROOT_DIR = \".\"\n",
        "CHAPTER_ID = \"01_AED\"\n",
        "IMAGES_PATH = os.path.join(PROJECT_ROOT_DIR, \"images\", CHAPTER_ID)\n",
        "os.makedirs(IMAGES_PATH, exist_ok=True)\n",
        "\n",
        "def save_fig(fig_id, tight_layout=True, fig_extension=\"png\", resolution=300):\n",
        "    path = os.path.join(IMAGES_PATH, fig_id + \".\" + fig_extension)\n",
        "    print(\"Saving figure\", fig_id)\n",
        "    if tight_layout:\n",
        "        plt.tight_layout()\n",
        "    plt.savefig(path, format=fig_extension, dpi=resolution)\n",
        "\n",
        "# Ignore useless warnings (see SciPy issue #5998)\n",
        "import warnings\n",
        "warnings.filterwarnings(action=\"ignore\", message=\"^internal gelsd\")\n",
        "\n",
        "print('Terminé de correr la primera celda')"
      ],
      "execution_count": 1,
      "outputs": [
        {
          "output_type": "stream",
          "text": [
            "Terminé de correr la primera celda\n"
          ],
          "name": "stdout"
        }
      ]
    },
    {
      "cell_type": "code",
      "metadata": {
        "id": "058owrDt4yJd"
      },
      "source": [
        "RETAIL_PATH = \"datasets\""
      ],
      "execution_count": 2,
      "outputs": []
    },
    {
      "cell_type": "code",
      "metadata": {
        "id": "73kbJkmF4yJe",
        "outputId": "62d27648-9a3d-46be-881b-7e2e8076b02f",
        "colab": {
          "base_uri": "https://localhost:8080/"
        }
      },
      "source": [
        "if 'google.colab' in sys.modules:\n",
        "        \n",
        "    import tarfile\n",
        "\n",
        "    #     DOWNLOAD_ROOT = \"https://github.com/hcgalvan/UNSAM-Machine-Learning-on-Economics/raw/master/\"\n",
        "    #     HOUSING_URL = DOWNLOAD_ROOT + \"datasets/datasets.tar.gz\"\n",
        "    DOWNLOAD_ROOT = \"https://github.com/hcgalvan/UNSAM-Machine-Learning-on-Economics/raw/main/\"\n",
        "    DATASETS_URL = DOWNLOAD_ROOT + \"datasets/datasets.tgz\"\n",
        "\n",
        "    def fetch_datasets_data(datasets_url=DATASETS_URL, datasets_path=RETAIL_PATH):\n",
        "        os.makedirs(datasets_path, exist_ok=True)\n",
        "        !wget {datasets_url} -P {datasets_path}\n",
        "        tgz_path = os.path.join(datasets_path, \"datasets.tgz\")\n",
        "        datasets_tgz = tarfile.open(tgz_path)\n",
        "        datasets_tgz.extractall(path=datasets_path)\n",
        "        datasets_tgz.close()\n",
        "\n",
        "    # Corramos la función\n",
        "    fetch_datasets_data()\n",
        "\n",
        "else: \n",
        "    print(\"No estás en Colab. Esta celda no hizo nada.\")"
      ],
      "execution_count": 3,
      "outputs": [
        {
          "output_type": "stream",
          "text": [
            "--2021-08-28 22:31:17--  https://github.com/hcgalvan/UNSAM-Machine-Learning-on-Economics/raw/main/datasets/datasets.tgz\n",
            "Resolving github.com (github.com)... 140.82.114.3\n",
            "Connecting to github.com (github.com)|140.82.114.3|:443... connected.\n",
            "HTTP request sent, awaiting response... 302 Found\n",
            "Location: https://raw.githubusercontent.com/hcgalvan/UNSAM-Machine-Learning-on-Economics/main/datasets/datasets.tgz [following]\n",
            "--2021-08-28 22:31:17--  https://raw.githubusercontent.com/hcgalvan/UNSAM-Machine-Learning-on-Economics/main/datasets/datasets.tgz\n",
            "Resolving raw.githubusercontent.com (raw.githubusercontent.com)... 185.199.108.133, 185.199.109.133, 185.199.110.133, ...\n",
            "Connecting to raw.githubusercontent.com (raw.githubusercontent.com)|185.199.108.133|:443... connected.\n",
            "HTTP request sent, awaiting response... 200 OK\n",
            "Length: 46959626 (45M) [application/octet-stream]\n",
            "Saving to: ‘datasets/datasets.tgz’\n",
            "\n",
            "datasets.tgz        100%[===================>]  44.78M  69.4MB/s    in 0.6s    \n",
            "\n",
            "2021-08-28 22:31:18 (69.4 MB/s) - ‘datasets/datasets.tgz’ saved [46959626/46959626]\n",
            "\n"
          ],
          "name": "stdout"
        }
      ]
    },
    {
      "cell_type": "markdown",
      "metadata": {
        "id": "OYbdg5k14yJf"
      },
      "source": [
        "# EXPLORAR DATA SET 1 - scanner_data.scv"
      ]
    },
    {
      "cell_type": "markdown",
      "metadata": {
        "id": "Bc_yr_qj4yJg"
      },
      "source": [
        "## Cargando datos del datasets"
      ]
    },
    {
      "cell_type": "code",
      "metadata": {
        "id": "K4JiUQrY4yJh"
      },
      "source": [
        "def load_datasets_data(datasets_path=RETAIL_PATH):\n",
        "    csv_path = os.path.join(datasets_path, \"scanner_data.csv\")\n",
        "    return pd.read_csv(csv_path)\n",
        "\n",
        "# The function loads the data as a Pandas DataFrame instance.\n",
        "retail = load_datasets_data()"
      ],
      "execution_count": null,
      "outputs": []
    },
    {
      "cell_type": "code",
      "metadata": {
        "id": "Lvq3YGfb4yJi",
        "outputId": "09222fb6-cfc1-4b12-d49e-4d980659d3ff"
      },
      "source": [
        "retail.head(2)"
      ],
      "execution_count": null,
      "outputs": [
        {
          "output_type": "execute_result",
          "data": {
            "text/plain": [
              "   Unnamed: 0        Date  Customer_ID  Transaction_ID SKU_Category    SKU  \\\n",
              "0           1  02/01/2016         2547               1          X52  0EM7L   \n",
              "1           2  02/01/2016          822               2          2ML  68BRQ   \n",
              "\n",
              "   Quantity  Sales_Amount  \n",
              "0       1.0          3.13  \n",
              "1       1.0          5.46  "
            ],
            "text/html": [
              "<div>\n",
              "<style scoped>\n",
              "    .dataframe tbody tr th:only-of-type {\n",
              "        vertical-align: middle;\n",
              "    }\n",
              "\n",
              "    .dataframe tbody tr th {\n",
              "        vertical-align: top;\n",
              "    }\n",
              "\n",
              "    .dataframe thead th {\n",
              "        text-align: right;\n",
              "    }\n",
              "</style>\n",
              "<table border=\"1\" class=\"dataframe\">\n",
              "  <thead>\n",
              "    <tr style=\"text-align: right;\">\n",
              "      <th></th>\n",
              "      <th>Unnamed: 0</th>\n",
              "      <th>Date</th>\n",
              "      <th>Customer_ID</th>\n",
              "      <th>Transaction_ID</th>\n",
              "      <th>SKU_Category</th>\n",
              "      <th>SKU</th>\n",
              "      <th>Quantity</th>\n",
              "      <th>Sales_Amount</th>\n",
              "    </tr>\n",
              "  </thead>\n",
              "  <tbody>\n",
              "    <tr>\n",
              "      <th>0</th>\n",
              "      <td>1</td>\n",
              "      <td>02/01/2016</td>\n",
              "      <td>2547</td>\n",
              "      <td>1</td>\n",
              "      <td>X52</td>\n",
              "      <td>0EM7L</td>\n",
              "      <td>1.0</td>\n",
              "      <td>3.13</td>\n",
              "    </tr>\n",
              "    <tr>\n",
              "      <th>1</th>\n",
              "      <td>2</td>\n",
              "      <td>02/01/2016</td>\n",
              "      <td>822</td>\n",
              "      <td>2</td>\n",
              "      <td>2ML</td>\n",
              "      <td>68BRQ</td>\n",
              "      <td>1.0</td>\n",
              "      <td>5.46</td>\n",
              "    </tr>\n",
              "  </tbody>\n",
              "</table>\n",
              "</div>"
            ]
          },
          "metadata": {},
          "execution_count": 4
        }
      ]
    },
    {
      "cell_type": "code",
      "metadata": {
        "id": "ESX8Pddt4yJj",
        "outputId": "cf45c7e2-7c45-4bec-c8d7-72044a456e51"
      },
      "source": [
        "print(retail.columns)"
      ],
      "execution_count": null,
      "outputs": [
        {
          "output_type": "stream",
          "name": "stdout",
          "text": [
            "Index(['Unnamed: 0', 'Date', 'Customer_ID', 'Transaction_ID', 'SKU_Category',\n",
            "       'SKU', 'Quantity', 'Sales_Amount'],\n",
            "      dtype='object')\n"
          ]
        }
      ]
    },
    {
      "cell_type": "markdown",
      "metadata": {
        "id": "rn6jiwkE4yJk"
      },
      "source": [
        "# EXPLORAR DATASET 2 - online_retail_II.xlxs"
      ]
    },
    {
      "cell_type": "markdown",
      "metadata": {
        "id": "b9bcRwV04yJk"
      },
      "source": [
        "## Cargando los datos"
      ]
    },
    {
      "cell_type": "code",
      "metadata": {
        "id": "MzG2SZb94yJk"
      },
      "source": [
        "def load_datasets_h1(datasets_path=RETAIL_PATH):\n",
        "    xlsx_path = os.path.join(datasets_path, \"online_retail_II.xlsx\")\n",
        "    return pd.read_excel(xlsx_path)\n",
        "\n",
        "# The function loads the data as a Pandas DataFrame instance.\n",
        "retail_ol_h1 = load_datasets_h1()"
      ],
      "execution_count": null,
      "outputs": []
    },
    {
      "cell_type": "code",
      "metadata": {
        "id": "JiMVddR_4yJl",
        "outputId": "5c7de6d7-930c-412d-dedf-bdf6498dc989"
      },
      "source": [
        "retail_ol_h1.head(2)"
      ],
      "execution_count": null,
      "outputs": [
        {
          "output_type": "execute_result",
          "data": {
            "text/plain": [
              "  Invoice StockCode                          Description  Quantity  \\\n",
              "0  489434     85048  15CM CHRISTMAS GLASS BALL 20 LIGHTS        12   \n",
              "1  489434    79323P                   PINK CHERRY LIGHTS        12   \n",
              "\n",
              "          InvoiceDate  Price  Customer ID         Country  \n",
              "0 2009-12-01 07:45:00   6.95      13085.0  United Kingdom  \n",
              "1 2009-12-01 07:45:00   6.75      13085.0  United Kingdom  "
            ],
            "text/html": [
              "<div>\n",
              "<style scoped>\n",
              "    .dataframe tbody tr th:only-of-type {\n",
              "        vertical-align: middle;\n",
              "    }\n",
              "\n",
              "    .dataframe tbody tr th {\n",
              "        vertical-align: top;\n",
              "    }\n",
              "\n",
              "    .dataframe thead th {\n",
              "        text-align: right;\n",
              "    }\n",
              "</style>\n",
              "<table border=\"1\" class=\"dataframe\">\n",
              "  <thead>\n",
              "    <tr style=\"text-align: right;\">\n",
              "      <th></th>\n",
              "      <th>Invoice</th>\n",
              "      <th>StockCode</th>\n",
              "      <th>Description</th>\n",
              "      <th>Quantity</th>\n",
              "      <th>InvoiceDate</th>\n",
              "      <th>Price</th>\n",
              "      <th>Customer ID</th>\n",
              "      <th>Country</th>\n",
              "    </tr>\n",
              "  </thead>\n",
              "  <tbody>\n",
              "    <tr>\n",
              "      <th>0</th>\n",
              "      <td>489434</td>\n",
              "      <td>85048</td>\n",
              "      <td>15CM CHRISTMAS GLASS BALL 20 LIGHTS</td>\n",
              "      <td>12</td>\n",
              "      <td>2009-12-01 07:45:00</td>\n",
              "      <td>6.95</td>\n",
              "      <td>13085.0</td>\n",
              "      <td>United Kingdom</td>\n",
              "    </tr>\n",
              "    <tr>\n",
              "      <th>1</th>\n",
              "      <td>489434</td>\n",
              "      <td>79323P</td>\n",
              "      <td>PINK CHERRY LIGHTS</td>\n",
              "      <td>12</td>\n",
              "      <td>2009-12-01 07:45:00</td>\n",
              "      <td>6.75</td>\n",
              "      <td>13085.0</td>\n",
              "      <td>United Kingdom</td>\n",
              "    </tr>\n",
              "  </tbody>\n",
              "</table>\n",
              "</div>"
            ]
          },
          "metadata": {},
          "execution_count": 8
        }
      ]
    },
    {
      "cell_type": "code",
      "metadata": {
        "id": "7c0-aaML4yJm",
        "outputId": "c6ca0b64-da0a-490e-cd5f-7a13acb8d2f2"
      },
      "source": [
        "print(retail_ol_h1.columns)"
      ],
      "execution_count": null,
      "outputs": [
        {
          "output_type": "stream",
          "name": "stdout",
          "text": [
            "Index(['Invoice', 'StockCode', 'Description', 'Quantity', 'InvoiceDate',\n",
            "       'Price', 'Customer ID', 'Country'],\n",
            "      dtype='object')\n"
          ]
        }
      ]
    },
    {
      "cell_type": "code",
      "metadata": {
        "id": "TOI_uxsV4yJm"
      },
      "source": [
        "def load_datasets_h2(datasets_path=RETAIL_PATH):\n",
        "    xlsx_path = os.path.join(datasets_path, \"online_retail_II.xlsx\")\n",
        "    return pd.read_excel(xlsx_path,1)\n",
        "\n",
        "# The function loads the data as a Pandas DataFrame instance.\n",
        "retail_ol_h2 = load_datasets_h2()"
      ],
      "execution_count": null,
      "outputs": []
    },
    {
      "cell_type": "code",
      "metadata": {
        "id": "UrOji_q-4yJn",
        "outputId": "d0d71b2e-9cf6-41f6-b624-d6e559361892"
      },
      "source": [
        "retail_ol_h2.head(2)"
      ],
      "execution_count": null,
      "outputs": [
        {
          "output_type": "execute_result",
          "data": {
            "text/plain": [
              "  Invoice StockCode                         Description  Quantity  \\\n",
              "0  536365    85123A  WHITE HANGING HEART T-LIGHT HOLDER         6   \n",
              "1  536365     71053                 WHITE METAL LANTERN         6   \n",
              "\n",
              "          InvoiceDate  Price  Customer ID         Country  \n",
              "0 2010-12-01 08:26:00   2.55      17850.0  United Kingdom  \n",
              "1 2010-12-01 08:26:00   3.39      17850.0  United Kingdom  "
            ],
            "text/html": [
              "<div>\n",
              "<style scoped>\n",
              "    .dataframe tbody tr th:only-of-type {\n",
              "        vertical-align: middle;\n",
              "    }\n",
              "\n",
              "    .dataframe tbody tr th {\n",
              "        vertical-align: top;\n",
              "    }\n",
              "\n",
              "    .dataframe thead th {\n",
              "        text-align: right;\n",
              "    }\n",
              "</style>\n",
              "<table border=\"1\" class=\"dataframe\">\n",
              "  <thead>\n",
              "    <tr style=\"text-align: right;\">\n",
              "      <th></th>\n",
              "      <th>Invoice</th>\n",
              "      <th>StockCode</th>\n",
              "      <th>Description</th>\n",
              "      <th>Quantity</th>\n",
              "      <th>InvoiceDate</th>\n",
              "      <th>Price</th>\n",
              "      <th>Customer ID</th>\n",
              "      <th>Country</th>\n",
              "    </tr>\n",
              "  </thead>\n",
              "  <tbody>\n",
              "    <tr>\n",
              "      <th>0</th>\n",
              "      <td>536365</td>\n",
              "      <td>85123A</td>\n",
              "      <td>WHITE HANGING HEART T-LIGHT HOLDER</td>\n",
              "      <td>6</td>\n",
              "      <td>2010-12-01 08:26:00</td>\n",
              "      <td>2.55</td>\n",
              "      <td>17850.0</td>\n",
              "      <td>United Kingdom</td>\n",
              "    </tr>\n",
              "    <tr>\n",
              "      <th>1</th>\n",
              "      <td>536365</td>\n",
              "      <td>71053</td>\n",
              "      <td>WHITE METAL LANTERN</td>\n",
              "      <td>6</td>\n",
              "      <td>2010-12-01 08:26:00</td>\n",
              "      <td>3.39</td>\n",
              "      <td>17850.0</td>\n",
              "      <td>United Kingdom</td>\n",
              "    </tr>\n",
              "  </tbody>\n",
              "</table>\n",
              "</div>"
            ]
          },
          "metadata": {},
          "execution_count": 11
        }
      ]
    },
    {
      "cell_type": "code",
      "metadata": {
        "id": "cCYo92RN4yJn",
        "outputId": "3e90b52b-725c-4f9e-8b6f-d5dd3779fd76"
      },
      "source": [
        "print(retail_ol_h2.columns)"
      ],
      "execution_count": null,
      "outputs": [
        {
          "output_type": "stream",
          "name": "stdout",
          "text": [
            "Index(['Invoice', 'StockCode', 'Description', 'Quantity', 'InvoiceDate',\n",
            "       'Price', 'Customer ID', 'Country'],\n",
            "      dtype='object')\n"
          ]
        }
      ]
    }
  ]
}