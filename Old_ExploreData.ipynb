{
  "nbformat": 4,
  "nbformat_minor": 2,
  "metadata": {
    "orig_nbformat": 4,
    "language_info": {
      "name": "python",
      "version": "3.9.5",
      "mimetype": "text/x-python",
      "codemirror_mode": {
        "name": "ipython",
        "version": 3
      },
      "pygments_lexer": "ipython3",
      "nbconvert_exporter": "python",
      "file_extension": ".py"
    },
    "kernelspec": {
      "name": "python3",
      "display_name": "Python 3.9.5 64-bit"
    },
    "interpreter": {
      "hash": "ac59ebe37160ed0dfa835113d9b8498d9f09ceb179beaac4002f036b9467c963"
    },
    "colab": {
      "name": "ExploreData.ipynb",
      "provenance": [],
      "toc_visible": true
    }
  },
  "cells": [
    {
      "cell_type": "markdown",
      "source": [
        "# Cargando Entorno"
      ],
      "metadata": {
        "id": "vaHCav2z4yJU"
      }
    },
    {
      "cell_type": "code",
      "execution_count": 1,
      "source": [
        "# Python ≥3.5 is required\r\n",
        "import sys\r\n",
        "assert sys.version_info >= (3, 5)\r\n",
        "\r\n",
        "# Scikit-Learn ≥0.20 is required\r\n",
        "import sklearn\r\n",
        "assert sklearn.__version__ >= \"0.20\"\r\n",
        "\r\n",
        "# Common imports\r\n",
        "import numpy as np\r\n",
        "import os\r\n",
        "import pandas as pd\r\n",
        "\r\n",
        "# To plot pretty figures\r\n",
        "%matplotlib inline\r\n",
        "import matplotlib as mpl\r\n",
        "import matplotlib.pyplot as plt\r\n",
        "%matplotlib inline\r\n",
        "mpl.rc('axes', labelsize=14)\r\n",
        "mpl.rc('xtick', labelsize=12)\r\n",
        "mpl.rc('ytick', labelsize=12)\r\n",
        "\r\n",
        "# Where to save the figures\r\n",
        "PROJECT_ROOT_DIR = \".\"\r\n",
        "CHAPTER_ID = \"01_AED\"\r\n",
        "IMAGES_PATH = os.path.join(PROJECT_ROOT_DIR, \"images\", CHAPTER_ID)\r\n",
        "os.makedirs(IMAGES_PATH, exist_ok=True)\r\n",
        "\r\n",
        "def save_fig(fig_id, tight_layout=True, fig_extension=\"png\", resolution=300):\r\n",
        "    path = os.path.join(IMAGES_PATH, fig_id + \".\" + fig_extension)\r\n",
        "    print(\"Saving figure\", fig_id)\r\n",
        "    if tight_layout:\r\n",
        "        plt.tight_layout()\r\n",
        "    plt.savefig(path, format=fig_extension, dpi=resolution)\r\n",
        "\r\n",
        "# Ignore useless warnings (see SciPy issue #5998)\r\n",
        "import warnings\r\n",
        "warnings.filterwarnings(action=\"ignore\", message=\"^internal gelsd\")\r\n",
        "\r\n",
        "print('Terminé de correr la primera celda')"
      ],
      "outputs": [
        {
          "output_type": "stream",
          "name": "stdout",
          "text": [
            "Terminé de correr la primera celda\n"
          ]
        }
      ],
      "metadata": {
        "id": "AguaTJr_4yJZ",
        "outputId": "0fb39323-3144-4753-ddea-c4758f915d86",
        "colab": {
          "base_uri": "https://localhost:8080/"
        }
      }
    },
    {
      "cell_type": "code",
      "execution_count": 2,
      "source": [
        "RETAIL_PATH = \"datasets\""
      ],
      "outputs": [],
      "metadata": {
        "id": "058owrDt4yJd"
      }
    },
    {
      "cell_type": "code",
      "execution_count": 3,
      "source": [
        "if 'google.colab' in sys.modules:\r\n",
        "        \r\n",
        "    import tarfile\r\n",
        "\r\n",
        "    #     DOWNLOAD_ROOT = \"https://github.com/hcgalvan/UNSAM-Machine-Learning-on-Economics/raw/master/\"\r\n",
        "    #     HOUSING_URL = DOWNLOAD_ROOT + \"datasets/datasets.tar.gz\"\r\n",
        "    DOWNLOAD_ROOT = \"https://github.com/hcgalvan/UNSAM-Machine-Learning-on-Economics/raw/main/\"\r\n",
        "    DATASETS_URL = DOWNLOAD_ROOT + \"datasets/datasets.tgz\"\r\n",
        "\r\n",
        "    def fetch_datasets_data(datasets_url=DATASETS_URL, datasets_path=RETAIL_PATH):\r\n",
        "        os.makedirs(datasets_path, exist_ok=True)\r\n",
        "        !wget {datasets_url} -P {datasets_path}\r\n",
        "        tgz_path = os.path.join(datasets_path, \"datasets.tgz\")\r\n",
        "        datasets_tgz = tarfile.open(tgz_path)\r\n",
        "        datasets_tgz.extractall(path=datasets_path)\r\n",
        "        datasets_tgz.close()\r\n",
        "\r\n",
        "    # Corramos la función\r\n",
        "    fetch_datasets_data()\r\n",
        "\r\n",
        "else: \r\n",
        "    print(\"No estás en Colab. Esta celda no hizo nada.\")"
      ],
      "outputs": [
        {
          "output_type": "stream",
          "name": "stdout",
          "text": [
            "--2021-08-28 22:31:17--  https://github.com/hcgalvan/UNSAM-Machine-Learning-on-Economics/raw/main/datasets/datasets.tgz\n",
            "Resolving github.com (github.com)... 140.82.114.3\n",
            "Connecting to github.com (github.com)|140.82.114.3|:443... connected.\n",
            "HTTP request sent, awaiting response... 302 Found\n",
            "Location: https://raw.githubusercontent.com/hcgalvan/UNSAM-Machine-Learning-on-Economics/main/datasets/datasets.tgz [following]\n",
            "--2021-08-28 22:31:17--  https://raw.githubusercontent.com/hcgalvan/UNSAM-Machine-Learning-on-Economics/main/datasets/datasets.tgz\n",
            "Resolving raw.githubusercontent.com (raw.githubusercontent.com)... 185.199.108.133, 185.199.109.133, 185.199.110.133, ...\n",
            "Connecting to raw.githubusercontent.com (raw.githubusercontent.com)|185.199.108.133|:443... connected.\n",
            "HTTP request sent, awaiting response... 200 OK\n",
            "Length: 46959626 (45M) [application/octet-stream]\n",
            "Saving to: ‘datasets/datasets.tgz’\n",
            "\n",
            "datasets.tgz        100%[===================>]  44.78M  69.4MB/s    in 0.6s    \n",
            "\n",
            "2021-08-28 22:31:18 (69.4 MB/s) - ‘datasets/datasets.tgz’ saved [46959626/46959626]\n",
            "\n"
          ]
        }
      ],
      "metadata": {
        "id": "73kbJkmF4yJe",
        "outputId": "62d27648-9a3d-46be-881b-7e2e8076b02f",
        "colab": {
          "base_uri": "https://localhost:8080/"
        }
      }
    },
    {
      "cell_type": "markdown",
      "source": [
        "# EXPLORAR DATA SET 1 - scanner_data.scv"
      ],
      "metadata": {
        "id": "OYbdg5k14yJf"
      }
    },
    {
      "cell_type": "markdown",
      "source": [
        "## Cargando datos del datasets"
      ],
      "metadata": {
        "id": "Bc_yr_qj4yJg"
      }
    },
    {
      "cell_type": "markdown",
      "source": [
        "# EXPLORAR DATASET 2 - online_retail_II.xlxs"
      ],
      "metadata": {
        "id": "rn6jiwkE4yJk"
      }
    },
    {
      "cell_type": "markdown",
      "source": [
        "## Cargando los datos"
      ],
      "metadata": {
        "id": "b9bcRwV04yJk"
      }
    },
    {
      "cell_type": "code",
      "execution_count": 3,
      "source": [
        "def load_datasets_h1(datasets_path=RETAIL_PATH):\r\n",
        "    xlsx_path = os.path.join(datasets_path, \"online_retail_II.xlsx\")\r\n",
        "    return pd.read_excel(xlsx_path)\r\n",
        "\r\n",
        "# The function loads the data as a Pandas DataFrame instance.\r\n",
        "\r\n",
        "def load_datasets_h2(datasets_path=RETAIL_PATH):\r\n",
        "    xlsx_path = os.path.join(datasets_path, \"online_retail_II.xlsx\")\r\n",
        "    return pd.read_excel(xlsx_path,1)\r\n",
        "\r\n",
        "# The function loads the data as a Pandas DataFrame instance.\r\n",
        "retail_ol_h2 = load_datasets_h2()\r\n",
        "retail_ol_h1 = load_datasets_h1()\r\n",
        "retail = retail_ol_h2"
      ],
      "outputs": [],
      "metadata": {
        "id": "MzG2SZb94yJk"
      }
    },
    {
      "cell_type": "code",
      "execution_count": 5,
      "source": [
        "retail_ol_h1.head(2)\r\n"
      ],
      "outputs": [
        {
          "output_type": "execute_result",
          "data": {
            "text/html": [
              "<div>\n",
              "<style scoped>\n",
              "    .dataframe tbody tr th:only-of-type {\n",
              "        vertical-align: middle;\n",
              "    }\n",
              "\n",
              "    .dataframe tbody tr th {\n",
              "        vertical-align: top;\n",
              "    }\n",
              "\n",
              "    .dataframe thead th {\n",
              "        text-align: right;\n",
              "    }\n",
              "</style>\n",
              "<table border=\"1\" class=\"dataframe\">\n",
              "  <thead>\n",
              "    <tr style=\"text-align: right;\">\n",
              "      <th></th>\n",
              "      <th>Invoice</th>\n",
              "      <th>StockCode</th>\n",
              "      <th>Description</th>\n",
              "      <th>Quantity</th>\n",
              "      <th>InvoiceDate</th>\n",
              "      <th>Price</th>\n",
              "      <th>Customer ID</th>\n",
              "      <th>Country</th>\n",
              "    </tr>\n",
              "  </thead>\n",
              "  <tbody>\n",
              "    <tr>\n",
              "      <th>0</th>\n",
              "      <td>489434</td>\n",
              "      <td>85048</td>\n",
              "      <td>15CM CHRISTMAS GLASS BALL 20 LIGHTS</td>\n",
              "      <td>12</td>\n",
              "      <td>2009-12-01 07:45:00</td>\n",
              "      <td>6.95</td>\n",
              "      <td>13085.0</td>\n",
              "      <td>United Kingdom</td>\n",
              "    </tr>\n",
              "    <tr>\n",
              "      <th>1</th>\n",
              "      <td>489434</td>\n",
              "      <td>79323P</td>\n",
              "      <td>PINK CHERRY LIGHTS</td>\n",
              "      <td>12</td>\n",
              "      <td>2009-12-01 07:45:00</td>\n",
              "      <td>6.75</td>\n",
              "      <td>13085.0</td>\n",
              "      <td>United Kingdom</td>\n",
              "    </tr>\n",
              "  </tbody>\n",
              "</table>\n",
              "</div>"
            ],
            "text/plain": [
              "  Invoice StockCode                          Description  Quantity  \\\n",
              "0  489434     85048  15CM CHRISTMAS GLASS BALL 20 LIGHTS        12   \n",
              "1  489434    79323P                   PINK CHERRY LIGHTS        12   \n",
              "\n",
              "          InvoiceDate  Price  Customer ID         Country  \n",
              "0 2009-12-01 07:45:00   6.95      13085.0  United Kingdom  \n",
              "1 2009-12-01 07:45:00   6.75      13085.0  United Kingdom  "
            ]
          },
          "metadata": {},
          "execution_count": 5
        }
      ],
      "metadata": {
        "id": "JiMVddR_4yJl",
        "outputId": "5c7de6d7-930c-412d-dedf-bdf6498dc989"
      }
    },
    {
      "cell_type": "code",
      "execution_count": 6,
      "source": [
        "retail_ol_h2.head(2)"
      ],
      "outputs": [
        {
          "output_type": "execute_result",
          "data": {
            "text/html": [
              "<div>\n",
              "<style scoped>\n",
              "    .dataframe tbody tr th:only-of-type {\n",
              "        vertical-align: middle;\n",
              "    }\n",
              "\n",
              "    .dataframe tbody tr th {\n",
              "        vertical-align: top;\n",
              "    }\n",
              "\n",
              "    .dataframe thead th {\n",
              "        text-align: right;\n",
              "    }\n",
              "</style>\n",
              "<table border=\"1\" class=\"dataframe\">\n",
              "  <thead>\n",
              "    <tr style=\"text-align: right;\">\n",
              "      <th></th>\n",
              "      <th>Invoice</th>\n",
              "      <th>StockCode</th>\n",
              "      <th>Description</th>\n",
              "      <th>Quantity</th>\n",
              "      <th>InvoiceDate</th>\n",
              "      <th>Price</th>\n",
              "      <th>Customer ID</th>\n",
              "      <th>Country</th>\n",
              "    </tr>\n",
              "  </thead>\n",
              "  <tbody>\n",
              "    <tr>\n",
              "      <th>0</th>\n",
              "      <td>536365</td>\n",
              "      <td>85123A</td>\n",
              "      <td>WHITE HANGING HEART T-LIGHT HOLDER</td>\n",
              "      <td>6</td>\n",
              "      <td>2010-12-01 08:26:00</td>\n",
              "      <td>2.55</td>\n",
              "      <td>17850.0</td>\n",
              "      <td>United Kingdom</td>\n",
              "    </tr>\n",
              "    <tr>\n",
              "      <th>1</th>\n",
              "      <td>536365</td>\n",
              "      <td>71053</td>\n",
              "      <td>WHITE METAL LANTERN</td>\n",
              "      <td>6</td>\n",
              "      <td>2010-12-01 08:26:00</td>\n",
              "      <td>3.39</td>\n",
              "      <td>17850.0</td>\n",
              "      <td>United Kingdom</td>\n",
              "    </tr>\n",
              "  </tbody>\n",
              "</table>\n",
              "</div>"
            ],
            "text/plain": [
              "  Invoice StockCode                         Description  Quantity  \\\n",
              "0  536365    85123A  WHITE HANGING HEART T-LIGHT HOLDER         6   \n",
              "1  536365     71053                 WHITE METAL LANTERN         6   \n",
              "\n",
              "          InvoiceDate  Price  Customer ID         Country  \n",
              "0 2010-12-01 08:26:00   2.55      17850.0  United Kingdom  \n",
              "1 2010-12-01 08:26:00   3.39      17850.0  United Kingdom  "
            ]
          },
          "metadata": {},
          "execution_count": 6
        }
      ],
      "metadata": {}
    },
    {
      "cell_type": "code",
      "execution_count": 7,
      "source": [
        "print(retail_ol_h1.columns)"
      ],
      "outputs": [
        {
          "output_type": "stream",
          "name": "stdout",
          "text": [
            "Index(['Invoice', 'StockCode', 'Description', 'Quantity', 'InvoiceDate',\n",
            "       'Price', 'Customer ID', 'Country'],\n",
            "      dtype='object')\n"
          ]
        }
      ],
      "metadata": {
        "id": "7c0-aaML4yJm",
        "outputId": "c6ca0b64-da0a-490e-cd5f-7a13acb8d2f2"
      }
    },
    {
      "cell_type": "code",
      "execution_count": 9,
      "source": [
        "print(retail_ol_h2.columns)"
      ],
      "outputs": [
        {
          "output_type": "stream",
          "name": "stdout",
          "text": [
            "Index(['Invoice', 'StockCode', 'Description', 'Quantity', 'InvoiceDate',\n",
            "       'Price', 'Customer ID', 'Country'],\n",
            "      dtype='object')\n"
          ]
        }
      ],
      "metadata": {
        "id": "TOI_uxsV4yJm"
      }
    },
    {
      "cell_type": "code",
      "execution_count": 10,
      "source": [
        "retail_ol_h2.head(2)"
      ],
      "outputs": [
        {
          "output_type": "execute_result",
          "data": {
            "text/html": [
              "<div>\n",
              "<style scoped>\n",
              "    .dataframe tbody tr th:only-of-type {\n",
              "        vertical-align: middle;\n",
              "    }\n",
              "\n",
              "    .dataframe tbody tr th {\n",
              "        vertical-align: top;\n",
              "    }\n",
              "\n",
              "    .dataframe thead th {\n",
              "        text-align: right;\n",
              "    }\n",
              "</style>\n",
              "<table border=\"1\" class=\"dataframe\">\n",
              "  <thead>\n",
              "    <tr style=\"text-align: right;\">\n",
              "      <th></th>\n",
              "      <th>Invoice</th>\n",
              "      <th>StockCode</th>\n",
              "      <th>Description</th>\n",
              "      <th>Quantity</th>\n",
              "      <th>InvoiceDate</th>\n",
              "      <th>Price</th>\n",
              "      <th>Customer ID</th>\n",
              "      <th>Country</th>\n",
              "    </tr>\n",
              "  </thead>\n",
              "  <tbody>\n",
              "    <tr>\n",
              "      <th>0</th>\n",
              "      <td>536365</td>\n",
              "      <td>85123A</td>\n",
              "      <td>WHITE HANGING HEART T-LIGHT HOLDER</td>\n",
              "      <td>6</td>\n",
              "      <td>2010-12-01 08:26:00</td>\n",
              "      <td>2.55</td>\n",
              "      <td>17850.0</td>\n",
              "      <td>United Kingdom</td>\n",
              "    </tr>\n",
              "    <tr>\n",
              "      <th>1</th>\n",
              "      <td>536365</td>\n",
              "      <td>71053</td>\n",
              "      <td>WHITE METAL LANTERN</td>\n",
              "      <td>6</td>\n",
              "      <td>2010-12-01 08:26:00</td>\n",
              "      <td>3.39</td>\n",
              "      <td>17850.0</td>\n",
              "      <td>United Kingdom</td>\n",
              "    </tr>\n",
              "  </tbody>\n",
              "</table>\n",
              "</div>"
            ],
            "text/plain": [
              "  Invoice StockCode                         Description  Quantity  \\\n",
              "0  536365    85123A  WHITE HANGING HEART T-LIGHT HOLDER         6   \n",
              "1  536365     71053                 WHITE METAL LANTERN         6   \n",
              "\n",
              "          InvoiceDate  Price  Customer ID         Country  \n",
              "0 2010-12-01 08:26:00   2.55      17850.0  United Kingdom  \n",
              "1 2010-12-01 08:26:00   3.39      17850.0  United Kingdom  "
            ]
          },
          "metadata": {},
          "execution_count": 10
        }
      ],
      "metadata": {
        "id": "UrOji_q-4yJn",
        "outputId": "d0d71b2e-9cf6-41f6-b624-d6e559361892"
      }
    },
    {
      "cell_type": "code",
      "execution_count": 12,
      "source": [
        "print(retail_ol_h1.columns)"
      ],
      "outputs": [
        {
          "output_type": "stream",
          "name": "stdout",
          "text": [
            "Index(['Invoice', 'StockCode', 'Description', 'Quantity', 'InvoiceDate',\n",
            "       'Price', 'Customer ID', 'Country'],\n",
            "      dtype='object')\n"
          ]
        }
      ],
      "metadata": {
        "id": "cCYo92RN4yJn",
        "outputId": "3e90b52b-725c-4f9e-8b6f-d5dd3779fd76"
      }
    },
    {
      "cell_type": "code",
      "execution_count": null,
      "source": [],
      "outputs": [],
      "metadata": {}
    }
  ]
}