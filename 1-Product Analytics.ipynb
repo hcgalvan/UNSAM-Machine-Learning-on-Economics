{
 "cells": [
  {
   "cell_type": "markdown",
   "metadata": {},
   "source": [
    "El trabajo esta basado en diferentes competencias y retos sobre Analítica de productos.\n",
    "sitio: https://www.codenong.com/\n",
    "A partir del trabajo de https://github.com/PacktPublishing/Hands-On-Data-Science-for-Marketing\n",
    "Libros: "
   ]
  },
  {
   "cell_type": "markdown",
   "metadata": {},
   "source": []
  },
  {
   "cell_type": "markdown",
   "metadata": {},
   "source": [
    "## Reto \n",
    "### Analizando los productos\n",
    "Cambiaremos la forma en que analizamos el comportamiento del cliente y comenzaremos a discutir cómo usar la ciencia de datos para un análisis más refinado a nivel de producto. Cada vez más empresas (especialmente empresas de comercio electrónico) tienen un interés y una demanda cada vez mayores por utilizar datos para comprender cómo los clientes interactúan e interactúan con diferentes productos. Se ha demostrado que un análisis riguroso de los productos puede ayudar a las empresas a mejorar la participación de los usuarios y las tasas de conversión, lo que en última instancia conduce a mayores ganancias. En esta parte del proyecto, discutiremos qué es el análisis de productos y cómo usarlo para diferentes casos de uso.\n",
    "\n",
    "El análisis de productos es un método para obtener información a partir de los datos, que se relacionan con la forma en que los clientes interactúan e interactúan con los productos proporcionados, el rendimiento de los diferentes productos y ciertas debilidades y ventajas que se pueden observar en la empresa. \n",
    "Sin embargo, el análisis de productos no se limita a analizar datos. El objetivo final del análisis de productos es, en realidad, establecer conocimientos e informes viables, que pueden ayudar a optimizar y mejorar el rendimiento del producto y generar nuevas ideas de marketing o productos basadas en los resultados del análisis del producto. \n",
    "El análisis de productos comienza con el seguimiento de eventos. Estos eventos pueden ser las visitas al sitio web del cliente, las páginas vistas, el historial del navegador, las compras o cualquier otra acción que el cliente pueda realizar en los productos que usted ofrece. \n",
    "Luego, podemos comenzar a analizar y visualizar cualquier patrón observable en estos eventos, con el objetivo de crear información o informes procesables.\n",
    " Algunos objetivos comunes del análisis de productos son los siguientes:\n",
    "\n",
    "1. Mejore la tasa de retención de clientes y productos\n",
    "Al analizar los clientes que vieron y compraron, puede determinar los productos que los clientes compraron repetidamente y los clientes que son clientes habituales. Por otro lado, también puede determinar qué productos no compran los clientes y qué clientes están en riesgo de abandono. Analizar y comprender los atributos comunes de las compras repetidas y los clientes habituales puede ayudarlo a mejorar su estrategia de retención.\n",
    "\n",
    "2. Identificar productos populares y de tendencia\n",
    "Como comercializador de una empresa minorista, es importante tener un buen conocimiento de los productos populares y de tendencia. Estos productos más vendidos son la principal fuente de ingresos para el negocio y brindan nuevas oportunidades de ventas, como ventas cruzadas o paquetes. Con la ayuda del análisis de productos, es fácil identificar y rastrear estos productos comunes y populares, y utilizar estos productos más vendidos para generar nuevas estrategias para explorar diferentes oportunidades.\n",
    "\n",
    "* Segmentación\n",
    "de clientes y productos basada en atributos clave de clientes y productos Con la ayuda de perfiles de clientes y datos de productos, podemos utilizar el análisis de productos para segmentar grupos de clientes y productos en función de los atributos de clientes y productos. Algunos métodos para segmentar los datos de productos se basan en su rentabilidad, volumen de ventas, volumen de pedidos y volumen de reembolso. A través de estos segmentos, podemos obtener información factible sobre el producto o la segmentación de clientes a posicionar a continuación.\n",
    "\n",
    "* Desarrollar una estrategia de marketing con un ROI más alto\n",
    "El análisis de productos también se puede utilizar para analizar el retorno de la inversión (ROI) de una estrategia de marketing. Al analizar los gastos de marketing gastados en la promoción de ciertos artículos y los ingresos generados por estos productos, podemos comprender qué funciona y qué no. El uso del análisis de productos para el análisis del ROI de marketing puede ayudar a crear estrategias de marketing más efectivas.\n",
    "\n",
    "Entonces, veremos cómo rastrear la tendencia de productos populares a lo largo del tiempo y luego trataremos brevemente cómo usar estos datos de productos populares para la recomendación de productos en estrategias de marketing."
   ]
  },
  {
   "cell_type": "code",
   "execution_count": 1,
   "metadata": {},
   "outputs": [
    {
     "name": "stdout",
     "output_type": "stream",
     "text": [
      "Requirement already satisfied: matplotlib in c:\\users\\user\\miniconda3\\envs\\codeframe\\lib\\site-packages (3.4.3)\n",
      "Requirement already satisfied: pillow>=6.2.0 in c:\\users\\user\\miniconda3\\envs\\codeframe\\lib\\site-packages (from matplotlib) (8.4.0)\n",
      "Requirement already satisfied: pyparsing>=2.2.1 in c:\\users\\user\\miniconda3\\envs\\codeframe\\lib\\site-packages (from matplotlib) (3.0.1)\n",
      "Requirement already satisfied: python-dateutil>=2.7 in c:\\users\\user\\miniconda3\\envs\\codeframe\\lib\\site-packages (from matplotlib) (2.8.2)\n",
      "Requirement already satisfied: numpy>=1.16 in c:\\users\\user\\miniconda3\\envs\\codeframe\\lib\\site-packages (from matplotlib) (1.21.3)\n",
      "Requirement already satisfied: kiwisolver>=1.0.1 in c:\\users\\user\\miniconda3\\envs\\codeframe\\lib\\site-packages (from matplotlib) (1.3.2)\n",
      "Requirement already satisfied: cycler>=0.10 in c:\\users\\user\\miniconda3\\envs\\codeframe\\lib\\site-packages (from matplotlib) (0.10.0)\n",
      "Requirement already satisfied: six in c:\\users\\user\\miniconda3\\envs\\codeframe\\lib\\site-packages (from cycler>=0.10->matplotlib) (1.16.0)\n"
     ]
    }
   ],
   "source": [
    "!pip install matplotlib \n",
    "#si fuese necesario en pc"
   ]
  },
  {
   "cell_type": "code",
   "execution_count": 3,
   "metadata": {},
   "outputs": [],
   "source": [
    "%matplotlib inline"
   ]
  },
  {
   "cell_type": "code",
   "execution_count": 2,
   "metadata": {},
   "outputs": [
    {
     "name": "stdout",
     "output_type": "stream",
     "text": [
      "Collecting pandas\n",
      "  Using cached pandas-1.3.4.tar.gz (4.7 MB)\n",
      "  Installing build dependencies: started\n",
      "  Installing build dependencies: finished with status 'done'\n",
      "  Getting requirements to build wheel: started\n",
      "  Getting requirements to build wheel: still running...\n",
      "  Getting requirements to build wheel: finished with status 'done'\n",
      "  Preparing metadata (pyproject.toml): started\n",
      "  Preparing metadata (pyproject.toml): finished with status 'done'\n",
      "Requirement already satisfied: python-dateutil>=2.7.3 in c:\\users\\user\\miniconda3\\envs\\codeframe\\lib\\site-packages (from pandas) (2.8.2)\n",
      "Collecting pytz>=2017.3\n",
      "  Using cached pytz-2021.3-py2.py3-none-any.whl (503 kB)\n",
      "Requirement already satisfied: numpy>=1.21.0 in c:\\users\\user\\miniconda3\\envs\\codeframe\\lib\\site-packages (from pandas) (1.21.3)\n",
      "Requirement already satisfied: six>=1.5 in c:\\users\\user\\miniconda3\\envs\\codeframe\\lib\\site-packages (from python-dateutil>=2.7.3->pandas) (1.16.0)\n",
      "Building wheels for collected packages: pandas\n",
      "  Building wheel for pandas (pyproject.toml): started\n",
      "  Building wheel for pandas (pyproject.toml): still running...\n",
      "  Building wheel for pandas (pyproject.toml): finished with status 'done'\n",
      "  Created wheel for pandas: filename=pandas-1.3.4-cp310-cp310-win_amd64.whl size=9809331 sha256=609f92bd65d072ec09d44de59ad86bd0073d40feca950960a3873c80d5c22eae\n",
      "  Stored in directory: c:\\users\\user\\appdata\\local\\pip\\cache\\wheels\\f5\\c7\\c7\\67b16ccaa45a66d1b9a188c3e3fc8238de49d6aa5e1420d2b6\n",
      "Successfully built pandas\n",
      "Installing collected packages: pytz, pandas\n",
      "Successfully installed pandas-1.3.4 pytz-2021.3\n"
     ]
    }
   ],
   "source": [
    "!pip install pandas \n",
    "#si fuese necesario en pc"
   ]
  },
  {
   "cell_type": "code",
   "execution_count": 3,
   "metadata": {},
   "outputs": [],
   "source": [
    "import matplotlib.pyplot as plt\n",
    "import pandas as pd"
   ]
  },
  {
   "cell_type": "markdown",
   "metadata": {},
   "source": [
    "UTILIZAR ESTA PARTE SI ESTAS EN GOOGLE COLAB"
   ]
  },
  {
   "cell_type": "code",
   "execution_count": 4,
   "metadata": {},
   "outputs": [],
   "source": [
    "import sys\n",
    "assert sys.version_info >= (3, 5)\n",
    "import os"
   ]
  },
  {
   "cell_type": "code",
   "execution_count": null,
   "metadata": {},
   "outputs": [],
   "source": [
    "RETAIL_PATH = \"https://github.com/hcgalvan/UNSAM-Machine-Learning-on-Economics/raw/main/data/\""
   ]
  },
  {
   "cell_type": "code",
   "execution_count": null,
   "metadata": {},
   "outputs": [],
   "source": [
    "if 'google.colab' in sys.modules:\n",
    "  def load_datasets_h1(datasets_path=RETAIL_PATH):\n",
    "    #retail_ol_h1 = pd.read_csv('./data/Year 2009-2010_train.csv',  encoding= 'unicode_escape')\n",
    "    # retail_ol_h2 = pd.read_csv('./data/Year 2010-2011_train.csv',  encoding= 'unicode_escape')\n",
    "    csv_path = os.path.join(datasets_path, \"Year 2009-2010_train.csv\")\n",
    "    return pd.read_csv(csv_path, encoding= 'unicode_escape')\n",
    "\n",
    "  # The function loads the data as a Pandas DataFrame instance.\n",
    "  retail_ol_h1 = load_datasets_h1()\n",
    "  def load_datasets_h2(datasets_path=RETAIL_PATH):\n",
    "      #xlsx_path = os.path.join(datasets_path, \"online_retail_II.xlsx\")\n",
    "      #return pd.read_excel(xlsx_path,1)\n",
    "      csv_path = os.path.join(datasets_path, \"Year 2010-2011_train.csv\")\n",
    "      return pd.read_csv(csv_path, encoding= 'unicode_escape')\n",
    "\n",
    "  # The function loads the data as a Pandas DataFrame instance.\n",
    "  retail_ol_h2 = load_datasets_h2()\n",
    "  "
   ]
  },
  {
   "cell_type": "markdown",
   "metadata": {},
   "source": [
    "# 1. Load Data"
   ]
  },
  {
   "cell_type": "markdown",
   "metadata": {},
   "source": [
    "UTILIZAR ESTE PARTE DEL CODIGO SOLO SI DESCARGASTE EN PC"
   ]
  },
  {
   "cell_type": "markdown",
   "metadata": {},
   "source": [
    "Conectamos con el archivo excel, leemos las 2 hojas disponibles y luego la concatenamos."
   ]
  },
  {
   "cell_type": "code",
   "execution_count": 5,
   "metadata": {},
   "outputs": [],
   "source": [
    "#retail_ol_h1= pd.read_excel(io='./data/online_retail_II.xlsx', sheet_name='Year 2010-2011')\n",
    "#retail_ol_h2= pd.read_excel(io='./data/online_retail_II.xlsx', sheet_name='Year 2009-2010')\n",
    "retail_ol_h1 = pd.read_csv('./data/Year 2009-2010_train.csv',  encoding= 'unicode_escape')\n",
    "retail_ol_h2 = pd.read_csv('./data/Year 2010-2011_train.csv',  encoding= 'unicode_escape')"
   ]
  },
  {
   "cell_type": "markdown",
   "metadata": {},
   "source": [
    "LO QUE SIGUE ES PARTE COMUN.\n",
    "Para trabajar en googlecolab como para los que hemos descargado en PC."
   ]
  },
  {
   "cell_type": "code",
   "execution_count": 6,
   "metadata": {},
   "outputs": [],
   "source": [
    "frames = [retail_ol_h1, retail_ol_h2]\n",
    "results = pd.concat(frames)\n",
    "df = results.copy()"
   ]
  },
  {
   "cell_type": "code",
   "execution_count": 7,
   "metadata": {},
   "outputs": [
    {
     "data": {
      "text/plain": [
       "(853896, 9)"
      ]
     },
     "execution_count": 7,
     "metadata": {},
     "output_type": "execute_result"
    }
   ],
   "source": [
    "df.shape"
   ]
  },
  {
   "cell_type": "code",
   "execution_count": 8,
   "metadata": {},
   "outputs": [
    {
     "data": {
      "text/html": [
       "<div>\n",
       "<style scoped>\n",
       "    .dataframe tbody tr th:only-of-type {\n",
       "        vertical-align: middle;\n",
       "    }\n",
       "\n",
       "    .dataframe tbody tr th {\n",
       "        vertical-align: top;\n",
       "    }\n",
       "\n",
       "    .dataframe thead th {\n",
       "        text-align: right;\n",
       "    }\n",
       "</style>\n",
       "<table border=\"1\" class=\"dataframe\">\n",
       "  <thead>\n",
       "    <tr style=\"text-align: right;\">\n",
       "      <th></th>\n",
       "      <th>Unnamed: 0</th>\n",
       "      <th>Invoice</th>\n",
       "      <th>StockCode</th>\n",
       "      <th>Description</th>\n",
       "      <th>Quantity</th>\n",
       "      <th>InvoiceDate</th>\n",
       "      <th>Price</th>\n",
       "      <th>Customer ID</th>\n",
       "      <th>Country</th>\n",
       "    </tr>\n",
       "  </thead>\n",
       "  <tbody>\n",
       "    <tr>\n",
       "      <th>0</th>\n",
       "      <td>468332</td>\n",
       "      <td>533533</td>\n",
       "      <td>20974</td>\n",
       "      <td>12 PENCILS SMALL TUBE SKULL</td>\n",
       "      <td>24</td>\n",
       "      <td>2010-11-17 15:24:00</td>\n",
       "      <td>0.65</td>\n",
       "      <td>18172.0</td>\n",
       "      <td>United Kingdom</td>\n",
       "    </tr>\n",
       "    <tr>\n",
       "      <th>1</th>\n",
       "      <td>18983</td>\n",
       "      <td>490963</td>\n",
       "      <td>82494L</td>\n",
       "      <td>WOODEN FRAME ANTIQUE WHITE</td>\n",
       "      <td>1</td>\n",
       "      <td>2009-12-08 15:49:00</td>\n",
       "      <td>7.78</td>\n",
       "      <td>NaN</td>\n",
       "      <td>United Kingdom</td>\n",
       "    </tr>\n",
       "    <tr>\n",
       "      <th>2</th>\n",
       "      <td>339143</td>\n",
       "      <td>522458</td>\n",
       "      <td>21823</td>\n",
       "      <td>PAINTED METAL HEART WITH HOLLY BELL</td>\n",
       "      <td>1</td>\n",
       "      <td>2010-09-14 15:55:00</td>\n",
       "      <td>1.45</td>\n",
       "      <td>12933.0</td>\n",
       "      <td>United Kingdom</td>\n",
       "    </tr>\n",
       "    <tr>\n",
       "      <th>3</th>\n",
       "      <td>474021</td>\n",
       "      <td>534035</td>\n",
       "      <td>82599</td>\n",
       "      <td>FANNY'S REST STOPMETAL SIGN</td>\n",
       "      <td>9</td>\n",
       "      <td>2010-11-19 15:50:00</td>\n",
       "      <td>2.10</td>\n",
       "      <td>13124.0</td>\n",
       "      <td>United Kingdom</td>\n",
       "    </tr>\n",
       "    <tr>\n",
       "      <th>4</th>\n",
       "      <td>304210</td>\n",
       "      <td>519029</td>\n",
       "      <td>21506</td>\n",
       "      <td>FANCY FONT BIRTHDAY CARD,</td>\n",
       "      <td>12</td>\n",
       "      <td>2010-08-13 10:15:00</td>\n",
       "      <td>0.42</td>\n",
       "      <td>15203.0</td>\n",
       "      <td>United Kingdom</td>\n",
       "    </tr>\n",
       "  </tbody>\n",
       "</table>\n",
       "</div>"
      ],
      "text/plain": [
       "   Unnamed: 0 Invoice StockCode                          Description  \\\n",
       "0      468332  533533     20974          12 PENCILS SMALL TUBE SKULL   \n",
       "1       18983  490963    82494L          WOODEN FRAME ANTIQUE WHITE    \n",
       "2      339143  522458     21823  PAINTED METAL HEART WITH HOLLY BELL   \n",
       "3      474021  534035     82599          FANNY'S REST STOPMETAL SIGN   \n",
       "4      304210  519029     21506           FANCY FONT BIRTHDAY CARD,    \n",
       "\n",
       "   Quantity          InvoiceDate  Price  Customer ID         Country  \n",
       "0        24  2010-11-17 15:24:00   0.65      18172.0  United Kingdom  \n",
       "1         1  2009-12-08 15:49:00   7.78          NaN  United Kingdom  \n",
       "2         1  2010-09-14 15:55:00   1.45      12933.0  United Kingdom  \n",
       "3         9  2010-11-19 15:50:00   2.10      13124.0  United Kingdom  \n",
       "4        12  2010-08-13 10:15:00   0.42      15203.0  United Kingdom  "
      ]
     },
     "execution_count": 8,
     "metadata": {},
     "output_type": "execute_result"
    }
   ],
   "source": [
    "df.head()"
   ]
  },
  {
   "cell_type": "markdown",
   "metadata": {},
   "source": [
    "# 2. Product Analytics"
   ]
  },
  {
   "cell_type": "markdown",
   "metadata": {},
   "source": [
    "#### - Quantity Distribution"
   ]
  },
  {
   "cell_type": "markdown",
   "metadata": {},
   "source": [
    "Distribución de cantidad"
   ]
  },
  {
   "cell_type": "code",
   "execution_count": 9,
   "metadata": {},
   "outputs": [
    {
     "data": {
      "image/png": "[encoded data removed]",
      "text/plain": [
       "<Figure size 720x504 with 1 Axes>"
      ]
     },
     "metadata": {
      "needs_background": "light"
     },
     "output_type": "display_data"
    }
   ],
   "source": [
    "ax = df['Quantity'].plot.box(\n",
    "    showfliers=False,\n",
    "    grid=True,\n",
    "    figsize=(10, 7)\n",
    ")\n",
    "\n",
    "ax.set_ylabel('Order Quantity')\n",
    "ax.set_title('Quantity Distribution')\n",
    "\n",
    "plt.suptitle(\"\")\n",
    "plt.show()"
   ]
  },
  {
   "cell_type": "code",
   "execution_count": 10,
   "metadata": {},
   "outputs": [
    {
     "data": {
      "text/html": [
       "<div>\n",
       "<style scoped>\n",
       "    .dataframe tbody tr th:only-of-type {\n",
       "        vertical-align: middle;\n",
       "    }\n",
       "\n",
       "    .dataframe tbody tr th {\n",
       "        vertical-align: top;\n",
       "    }\n",
       "\n",
       "    .dataframe thead th {\n",
       "        text-align: right;\n",
       "    }\n",
       "</style>\n",
       "<table border=\"1\" class=\"dataframe\">\n",
       "  <thead>\n",
       "    <tr style=\"text-align: right;\">\n",
       "      <th></th>\n",
       "      <th>Quantity</th>\n",
       "    </tr>\n",
       "  </thead>\n",
       "  <tbody>\n",
       "    <tr>\n",
       "      <th>count</th>\n",
       "      <td>853896.000000</td>\n",
       "    </tr>\n",
       "    <tr>\n",
       "      <th>mean</th>\n",
       "      <td>10.016582</td>\n",
       "    </tr>\n",
       "    <tr>\n",
       "      <th>std</th>\n",
       "      <td>169.044617</td>\n",
       "    </tr>\n",
       "    <tr>\n",
       "      <th>min</th>\n",
       "      <td>-80995.000000</td>\n",
       "    </tr>\n",
       "    <tr>\n",
       "      <th>25%</th>\n",
       "      <td>1.000000</td>\n",
       "    </tr>\n",
       "    <tr>\n",
       "      <th>50%</th>\n",
       "      <td>3.000000</td>\n",
       "    </tr>\n",
       "    <tr>\n",
       "      <th>75%</th>\n",
       "      <td>10.000000</td>\n",
       "    </tr>\n",
       "    <tr>\n",
       "      <th>max</th>\n",
       "      <td>80995.000000</td>\n",
       "    </tr>\n",
       "  </tbody>\n",
       "</table>\n",
       "</div>"
      ],
      "text/plain": [
       "            Quantity\n",
       "count  853896.000000\n",
       "mean       10.016582\n",
       "std       169.044617\n",
       "min    -80995.000000\n",
       "25%         1.000000\n",
       "50%         3.000000\n",
       "75%        10.000000\n",
       "max     80995.000000"
      ]
     },
     "execution_count": 10,
     "metadata": {},
     "output_type": "execute_result"
    }
   ],
   "source": [
    "pd.DataFrame(df['Quantity'].describe())"
   ]
  },
  {
   "cell_type": "markdown",
   "metadata": {},
   "source": [
    "\n",
    "Hay registros con valores negativos en la columna Cantidad, que representan pedidos cancelados. Ignoremos y eliminemos estos registros. Podemos filtrar todos estos registros en nuestro DataFrame simplemente eligiendo los Quantity que sean mayores a 0"
   ]
  },
  {
   "cell_type": "code",
   "execution_count": 11,
   "metadata": {},
   "outputs": [
    {
     "data": {
      "text/plain": [
       "(835488, 9)"
      ]
     },
     "execution_count": 11,
     "metadata": {},
     "output_type": "execute_result"
    }
   ],
   "source": [
    "df.loc[df['Quantity'] > 0].shape"
   ]
  },
  {
   "cell_type": "code",
   "execution_count": 12,
   "metadata": {},
   "outputs": [
    {
     "data": {
      "text/plain": [
       "(853896, 9)"
      ]
     },
     "execution_count": 12,
     "metadata": {},
     "output_type": "execute_result"
    }
   ],
   "source": [
    "df.shape"
   ]
  },
  {
   "cell_type": "code",
   "execution_count": 13,
   "metadata": {},
   "outputs": [],
   "source": [
    "df = df.loc[df['Quantity'] > 0]"
   ]
  },
  {
   "cell_type": "markdown",
   "metadata": {},
   "source": [
    "#### - Time-series Number of Orders"
   ]
  },
  {
   "cell_type": "markdown",
   "metadata": {},
   "source": [
    "Serie temporal Número de pedidos"
   ]
  },
  {
   "cell_type": "code",
   "execution_count": 15,
   "metadata": {},
   "outputs": [],
   "source": [
    "df['InvoiceDate'] = pd.to_datetime(df['InvoiceDate'])\n",
    "monthly_orders_df = df.set_index('InvoiceDate')['Invoice'].resample('M').nunique()"
   ]
  },
  {
   "cell_type": "markdown",
   "metadata": {},
   "source": [
    "Como puede ver en este código, estamos usando las  funciones resample y nunique. La función resample vuelve a muestrear y convierte los datos de series de tiempo en la frecuencia que deseamos. En nuestro ejemplo, estamos volviendo a muestrear nuestros datos de series de tiempo en datos de series de tiempo mensuales, utilizando 'M'como nuestra frecuencia objetivo y contando el número de números de factura distintos o únicos. De esta forma, podemos obtener el número de compras o pedidos únicos mes a mes. El DataFrame resultante :"
   ]
  },
  {
   "cell_type": "code",
   "execution_count": 16,
   "metadata": {},
   "outputs": [
    {
     "data": {
      "text/plain": [
       "InvoiceDate\n",
       "2009-12-31    1783\n",
       "2010-01-31    1153\n",
       "2010-02-28    1245\n",
       "2010-03-31    1710\n",
       "2010-04-30    1463\n",
       "2010-05-31    1583\n",
       "2010-06-30    1669\n",
       "2010-07-31    1535\n",
       "2010-08-31    1464\n",
       "2010-09-30    1841\n",
       "2010-10-31    2316\n",
       "2010-11-30    2786\n",
       "2010-12-31    1596\n",
       "2011-01-31    1093\n",
       "2011-02-28    1108\n",
       "2011-03-31    1499\n",
       "2011-04-30    1278\n",
       "2011-05-31    1695\n",
       "2011-06-30    1530\n",
       "2011-07-31    1504\n",
       "2011-08-31    1368\n",
       "2011-09-30    1851\n",
       "2011-10-31    2086\n",
       "2011-11-30    2817\n",
       "2011-12-31     817\n",
       "Freq: M, Name: Invoice, dtype: int64"
      ]
     },
     "execution_count": 16,
     "metadata": {},
     "output_type": "execute_result"
    }
   ],
   "source": [
    "monthly_orders_df"
   ]
  },
  {
   "cell_type": "markdown",
   "metadata": {},
   "source": [
    "A menudo las series de tiempo se puede entender mejor visualizando, utilizando gráficos de lineas"
   ]
  },
  {
   "cell_type": "code",
   "execution_count": 17,
   "metadata": {},
   "outputs": [
    {
     "data": {
      "image/png": "[encoded data removed]",
      "text/plain": [
       "<Figure size 720x504 with 1 Axes>"
      ]
     },
     "metadata": {
      "needs_background": "light"
     },
     "output_type": "display_data"
    }
   ],
   "source": [
    "ax = pd.DataFrame(monthly_orders_df.values).plot(\n",
    "    grid=True,\n",
    "    figsize=(10,7),\n",
    "    legend=False\n",
    ")\n",
    "\n",
    "ax.set_xlabel('date')\n",
    "ax.set_ylabel('number of orders/invoices')\n",
    "ax.set_title('Total Number of Orders Over Time')\n",
    "\n",
    "plt.xticks(\n",
    "    range(len(monthly_orders_df.index)), \n",
    "    [x.strftime('%m.%Y') for x in monthly_orders_df.index], \n",
    "    rotation=45\n",
    ")\n",
    "\n",
    "plt.show()"
   ]
  },
  {
   "cell_type": "markdown",
   "metadata": {},
   "source": [
    "Como puede observar en este gráfico, las etiquetas de marca en el eje x  están formateadas por mes y año. Si mira hacia atrás en el código anterior, los formateamos usando  x.strftime('%m.%Y'), donde xestá el Python dateobjeto,  %mes el marcador de posición para el valor del mes y %Yes el marcador de posición para el valor del año. La strftimefunción del  Python dateobjeto formatea la fecha en el formato dado.\n",
    "\n",
    "Una cosa que se nota en este gráfico es que hay una caída radical repentina en el número de pedidos en diciembre de 2011. Si observa de cerca los datos, esto se debe simplemente a que no tenemos los datos para el mes completo de diciembre de 2011.\n",
    "\n",
    "Podemos verificar esto usando el siguiente código."
   ]
  },
  {
   "cell_type": "code",
   "execution_count": 18,
   "metadata": {},
   "outputs": [],
   "source": [
    "invoice_dates = df.loc[\n",
    "    df['InvoiceDate'] >= '2011-12-01',\n",
    "    'InvoiceDate'\n",
    "]"
   ]
  },
  {
   "cell_type": "markdown",
   "metadata": {},
   "source": [
    "En este código, obtenemos una serie de todas las fechas de facturación desde el 1 de diciembre de 2011. Luego, imprimimos las fechas mínima y máxima. Cuando ejecute este código, obtendrá el siguiente resultado:"
   ]
  },
  {
   "cell_type": "code",
   "execution_count": 19,
   "metadata": {},
   "outputs": [
    {
     "name": "stdout",
     "output_type": "stream",
     "text": [
      "Min date: 2011-12-01 08:33:00\n",
      "Max date: 2011-12-09 12:50:00\n"
     ]
    }
   ],
   "source": [
    "print('Min date: %s\\nMax date: %s' % (invoice_dates.min(), invoice_dates.max()))"
   ]
  },
  {
   "cell_type": "markdown",
   "metadata": {},
   "source": [
    "Como puede ver en este resultado, solo tenemos los datos del 1 de diciembre al 9 de diciembre de 2011. Sería una tergiversación si usamos estos datos para analizar las ventas y los ingresos de diciembre. Para realizar análisis adicionales , ignoraremos los datos del  1 de diciembre de 2011. Puede utilizar el siguiente código para eliminar esos puntos de datos."
   ]
  },
  {
   "cell_type": "code",
   "execution_count": 20,
   "metadata": {},
   "outputs": [
    {
     "data": {
      "text/plain": [
       "(815381, 9)"
      ]
     },
     "execution_count": 20,
     "metadata": {},
     "output_type": "execute_result"
    }
   ],
   "source": [
    "df.loc[df['InvoiceDate'] < '2011-12-01'].shape"
   ]
  },
  {
   "cell_type": "code",
   "execution_count": 21,
   "metadata": {},
   "outputs": [
    {
     "data": {
      "text/plain": [
       "(835488, 9)"
      ]
     },
     "execution_count": 21,
     "metadata": {},
     "output_type": "execute_result"
    }
   ],
   "source": [
    "df.shape"
   ]
  },
  {
   "cell_type": "code",
   "execution_count": 22,
   "metadata": {},
   "outputs": [],
   "source": [
    "df = df.loc[df['InvoiceDate'] < '2011-12-01']"
   ]
  },
  {
   "cell_type": "code",
   "execution_count": 23,
   "metadata": {},
   "outputs": [],
   "source": [
    "monthly_orders_df = df.set_index('InvoiceDate')['Invoice'].resample('M').nunique()"
   ]
  },
  {
   "cell_type": "code",
   "execution_count": 21,
   "metadata": {},
   "outputs": [
    {
     "data": {
      "text/plain": [
       "InvoiceDate\n",
       "2009-12-31    1839\n",
       "2010-01-31    1205\n",
       "2010-02-28    1282\n",
       "2010-03-31    1770\n",
       "2010-04-30    1513\n",
       "2010-05-31    1642\n",
       "2010-06-30    1719\n",
       "2010-07-31    1585\n",
       "2010-08-31    1511\n",
       "2010-09-30    1911\n",
       "2010-10-31    2371\n",
       "2010-11-30    2868\n",
       "2010-12-31    1629\n",
       "2011-01-31    1120\n",
       "2011-02-28    1126\n",
       "2011-03-31    1531\n",
       "2011-04-30    1318\n",
       "2011-05-31    1731\n",
       "2011-06-30    1576\n",
       "2011-07-31    1540\n",
       "2011-08-31    1409\n",
       "2011-09-30    1896\n",
       "2011-10-31    2129\n",
       "2011-11-30    2884\n",
       "Freq: M, Name: Invoice, dtype: int64"
      ]
     },
     "execution_count": 21,
     "metadata": {},
     "output_type": "execute_result"
    }
   ],
   "source": [
    "monthly_orders_df"
   ]
  },
  {
   "cell_type": "markdown",
   "metadata": {},
   "source": [
    "Ahora que hemos filtrado los datos incompletos de diciembre de 2011, podemos volver a dibujar el gráfico de líneas utilizando los códigos anteriores. Después de eliminar esos puntos de datos de diciembre de 2011, el gráfico de líneas tiene el siguiente aspecto:"
   ]
  },
  {
   "cell_type": "code",
   "execution_count": 23,
   "metadata": {},
   "outputs": [
    {
     "data": {
      "image/png": "[encoded data removed]",
      "text/plain": [
       "<Figure size 720x504 with 1 Axes>"
      ]
     },
     "metadata": {
      "needs_background": "light"
     },
     "output_type": "display_data"
    }
   ],
   "source": [
    "ax = pd.DataFrame(monthly_orders_df.values).plot(\n",
    "    grid=True,\n",
    "    figsize=(10,7),\n",
    "    legend=False\n",
    ")\n",
    "\n",
    "ax.set_xlabel('date')\n",
    "ax.set_ylabel('number of orders')\n",
    "ax.set_title('Total Number of Orders Over Time')\n",
    "\n",
    "ax.set_ylim([0, max(monthly_orders_df.values)+500])\n",
    "\n",
    "plt.xticks(\n",
    "    range(len(monthly_orders_df.index)), \n",
    "    [x.strftime('%m.%Y') for x in monthly_orders_df.index], \n",
    "    rotation=45\n",
    ")\n",
    "\n",
    "plt.show()"
   ]
  },
  {
   "cell_type": "markdown",
   "metadata": {},
   "source": [
    "Echemos un vistazo más de cerca a este gráfico . El número mensual de pedidos parece flotar alrededor de 1.500 desde diciembre de 2010 hasta agosto de 2011, y luego aumenta significativamente desde septiembre de 2011, y casi se duplica en noviembre de 2011. Una explicación de esto podría ser que el negocio está creciendo significativamente desde septiembre de 2011. Otra La explicación podría ser efectos estacionales. En las empresas de comercio electrónico , no es raro ver picos en las ventas a medida que se acerca el final del año. Por lo general, las ventas aumentan significativamente de octubre a enero para muchas empresas de comercio electrónico , y sin los datos del año anterior, es difícil concluir si este aumento en las ventas se debe a un crecimiento en los negocios.o por efectos estacionales. Cuando analice sus datos, le recomendamos que compare los datos del año actual con los del año anterior."
   ]
  },
  {
   "cell_type": "markdown",
   "metadata": {},
   "source": [
    "#### - Time-series Revenue"
   ]
  },
  {
   "cell_type": "code",
   "execution_count": 24,
   "metadata": {},
   "outputs": [],
   "source": [
    "df['Sales'] = df['Quantity'] * df['Price']"
   ]
  },
  {
   "cell_type": "code",
   "execution_count": 25,
   "metadata": {},
   "outputs": [],
   "source": [
    "monthly_revenue_df = df.set_index('InvoiceDate')['Sales'].resample('M').sum()"
   ]
  },
  {
   "cell_type": "markdown",
   "metadata": {},
   "source": [
    "Como puede ver en este código, lo primero que hacemos aquí es calcular el monto total de ventas de cada pedido, que es simplemente el multiplicado por el . Una vez que hayamos calculado y creado esta columna, podemos usar la  función con una  bandera para volver a muestrear y convertir nuestros datos de series de tiempo en datos mensuales. Luego, usando como función agregada , podemos obtener los datos de ingresos por ventas mensuales. Los datos resultantes tienen el siguiente aspecto utilizando \"UnitPriceQuantitySalesresample'M'sum\"\n",
    "\n"
   ]
  },
  {
   "cell_type": "code",
   "execution_count": 26,
   "metadata": {},
   "outputs": [
    {
     "data": {
      "text/plain": [
       "InvoiceDate\n",
       "2009-12-31     664453.500\n",
       "2010-01-31     518708.332\n",
       "2010-02-28     438928.196\n",
       "2010-03-31     652845.451\n",
       "2010-04-30     493888.981\n",
       "2010-05-31     526032.300\n",
       "2010-06-30     607753.770\n",
       "2010-07-31     475571.120\n",
       "2010-08-31     553525.780\n",
       "2010-09-30     736837.001\n",
       "2010-10-31     896661.300\n",
       "2010-11-30    1155716.552\n",
       "2010-12-31    1023029.800\n",
       "2011-01-31     569015.230\n",
       "2011-02-28     420027.080\n",
       "2011-03-31     579493.140\n",
       "2011-04-30     431256.931\n",
       "2011-05-31     615878.290\n",
       "2011-06-30     614552.840\n",
       "2011-07-31     582905.861\n",
       "2011-08-31     601769.080\n",
       "2011-09-30     841374.721\n",
       "2011-10-31     936725.040\n",
       "2011-11-30    1220641.990\n",
       "Freq: M, Name: Sales, dtype: float64"
      ]
     },
     "execution_count": 26,
     "metadata": {},
     "output_type": "execute_result"
    }
   ],
   "source": [
    "monthly_revenue_df"
   ]
  },
  {
   "cell_type": "code",
   "execution_count": 27,
   "metadata": {},
   "outputs": [
    {
     "data": {
      "image/png": "[encoded data removed]",
      "text/plain": [
       "<Figure size 720x504 with 1 Axes>"
      ]
     },
     "metadata": {
      "needs_background": "light"
     },
     "output_type": "display_data"
    }
   ],
   "source": [
    "ax = pd.DataFrame(monthly_revenue_df.values).plot(\n",
    "    grid=True,\n",
    "    figsize=(10,7),\n",
    "    legend=False\n",
    ")\n",
    "\n",
    "ax.set_xlabel('date')\n",
    "ax.set_ylabel('sales')\n",
    "ax.set_title('Total Revenue Over Time')\n",
    "\n",
    "ax.set_ylim([0, max(monthly_revenue_df.values)+100000])\n",
    "\n",
    "plt.xticks(\n",
    "    range(len(monthly_revenue_df.index)), \n",
    "    [x.strftime('%m.%Y') for x in monthly_revenue_df.index], \n",
    "    rotation=45\n",
    ")\n",
    "\n",
    "plt.show()"
   ]
  },
  {
   "cell_type": "markdown",
   "metadata": {},
   "source": [
    "Estos tipos de análisis de series de tiempo generales y amplios pueden ayudar a los especialistas en marketing a comprender mejor el desempeño general del negocio e identificar cualquier problema potencial que pueda estar ocurriendo dentro del negocio . Por lo general, es una buena idea comenzar con análisis amplios y luego profundizar en partes más granulares y específicas del negocio para obtener más análisis de productos."
   ]
  },
  {
   "cell_type": "markdown",
   "metadata": {},
   "source": [
    "#### - Time-series Repeat Customers"
   ]
  },
  {
   "cell_type": "markdown",
   "metadata": {},
   "source": [
    "Otro factor importante de un negocio exitoso es qué tan bien está reteniendo clientes y cuántas compras repetidas y clientes tiene. En esta sección, vamos a analizar el número de compras mensuales repetidas y qué parte de los ingresos mensuales es atribuible a estas compras repetidas y clientes. Un negocio típico fuerte y estable tiene un flujo constante de ventas de los clientes existentes. Veamos cuántas ventas provienen de clientes habituales y existentes del negocio minorista en línea que estamos analizando"
   ]
  },
  {
   "cell_type": "markdown",
   "metadata": {},
   "source": [
    "Vamos a ver el número de compras repetidas mensuales. Esto significa que un cliente realizó más de un pedido en un mes determinado. Echemos un vistazo rápido a los datos que tenemos:"
   ]
  },
  {
   "cell_type": "code",
   "execution_count": 28,
   "metadata": {},
   "outputs": [
    {
     "data": {
      "text/html": [
       "<div>\n",
       "<style scoped>\n",
       "    .dataframe tbody tr th:only-of-type {\n",
       "        vertical-align: middle;\n",
       "    }\n",
       "\n",
       "    .dataframe tbody tr th {\n",
       "        vertical-align: top;\n",
       "    }\n",
       "\n",
       "    .dataframe thead th {\n",
       "        text-align: right;\n",
       "    }\n",
       "</style>\n",
       "<table border=\"1\" class=\"dataframe\">\n",
       "  <thead>\n",
       "    <tr style=\"text-align: right;\">\n",
       "      <th></th>\n",
       "      <th>Unnamed: 0</th>\n",
       "      <th>Invoice</th>\n",
       "      <th>StockCode</th>\n",
       "      <th>Description</th>\n",
       "      <th>Quantity</th>\n",
       "      <th>InvoiceDate</th>\n",
       "      <th>Price</th>\n",
       "      <th>Customer ID</th>\n",
       "      <th>Country</th>\n",
       "      <th>Sales</th>\n",
       "    </tr>\n",
       "  </thead>\n",
       "  <tbody>\n",
       "    <tr>\n",
       "      <th>0</th>\n",
       "      <td>468332</td>\n",
       "      <td>533533</td>\n",
       "      <td>20974</td>\n",
       "      <td>12 PENCILS SMALL TUBE SKULL</td>\n",
       "      <td>24</td>\n",
       "      <td>2010-11-17 15:24:00</td>\n",
       "      <td>0.65</td>\n",
       "      <td>18172.0</td>\n",
       "      <td>United Kingdom</td>\n",
       "      <td>15.60</td>\n",
       "    </tr>\n",
       "    <tr>\n",
       "      <th>1</th>\n",
       "      <td>18983</td>\n",
       "      <td>490963</td>\n",
       "      <td>82494L</td>\n",
       "      <td>WOODEN FRAME ANTIQUE WHITE</td>\n",
       "      <td>1</td>\n",
       "      <td>2009-12-08 15:49:00</td>\n",
       "      <td>7.78</td>\n",
       "      <td>NaN</td>\n",
       "      <td>United Kingdom</td>\n",
       "      <td>7.78</td>\n",
       "    </tr>\n",
       "    <tr>\n",
       "      <th>2</th>\n",
       "      <td>339143</td>\n",
       "      <td>522458</td>\n",
       "      <td>21823</td>\n",
       "      <td>PAINTED METAL HEART WITH HOLLY BELL</td>\n",
       "      <td>1</td>\n",
       "      <td>2010-09-14 15:55:00</td>\n",
       "      <td>1.45</td>\n",
       "      <td>12933.0</td>\n",
       "      <td>United Kingdom</td>\n",
       "      <td>1.45</td>\n",
       "    </tr>\n",
       "    <tr>\n",
       "      <th>3</th>\n",
       "      <td>474021</td>\n",
       "      <td>534035</td>\n",
       "      <td>82599</td>\n",
       "      <td>FANNY'S REST STOPMETAL SIGN</td>\n",
       "      <td>9</td>\n",
       "      <td>2010-11-19 15:50:00</td>\n",
       "      <td>2.10</td>\n",
       "      <td>13124.0</td>\n",
       "      <td>United Kingdom</td>\n",
       "      <td>18.90</td>\n",
       "    </tr>\n",
       "    <tr>\n",
       "      <th>4</th>\n",
       "      <td>304210</td>\n",
       "      <td>519029</td>\n",
       "      <td>21506</td>\n",
       "      <td>FANCY FONT BIRTHDAY CARD,</td>\n",
       "      <td>12</td>\n",
       "      <td>2010-08-13 10:15:00</td>\n",
       "      <td>0.42</td>\n",
       "      <td>15203.0</td>\n",
       "      <td>United Kingdom</td>\n",
       "      <td>5.04</td>\n",
       "    </tr>\n",
       "  </tbody>\n",
       "</table>\n",
       "</div>"
      ],
      "text/plain": [
       "   Unnamed: 0 Invoice StockCode                          Description  \\\n",
       "0      468332  533533     20974          12 PENCILS SMALL TUBE SKULL   \n",
       "1       18983  490963    82494L          WOODEN FRAME ANTIQUE WHITE    \n",
       "2      339143  522458     21823  PAINTED METAL HEART WITH HOLLY BELL   \n",
       "3      474021  534035     82599          FANNY'S REST STOPMETAL SIGN   \n",
       "4      304210  519029     21506           FANCY FONT BIRTHDAY CARD,    \n",
       "\n",
       "   Quantity         InvoiceDate  Price  Customer ID         Country  Sales  \n",
       "0        24 2010-11-17 15:24:00   0.65      18172.0  United Kingdom  15.60  \n",
       "1         1 2009-12-08 15:49:00   7.78          NaN  United Kingdom   7.78  \n",
       "2         1 2010-09-14 15:55:00   1.45      12933.0  United Kingdom   1.45  \n",
       "3         9 2010-11-19 15:50:00   2.10      13124.0  United Kingdom  18.90  \n",
       "4        12 2010-08-13 10:15:00   0.42      15203.0  United Kingdom   5.04  "
      ]
     },
     "execution_count": 28,
     "metadata": {},
     "output_type": "execute_result"
    }
   ],
   "source": [
    "df.head()"
   ]
  },
  {
   "cell_type": "markdown",
   "metadata": {},
   "source": [
    "Como habrá notado en esta instantánea de los datos, hay varios registros para una orden de compra ( usando el siguiente código: \"Invoice\"). Sin embargo, lo que necesitamos son los datos agregados para cada pedido, de modo que un registro en el DataFrame representa un pedido de compra. Podemos agregar estos datos brutos para cada \"Invoice\""
   ]
  },
  {
   "cell_type": "code",
   "execution_count": 29,
   "metadata": {
    "scrolled": true
   },
   "outputs": [],
   "source": [
    "invoice_customer_df = df.groupby(\n",
    "    by=['Invoice', 'InvoiceDate']\n",
    ").agg({\n",
    "    'Sales': sum,\n",
    "    'Customer ID': max,\n",
    "    'Country': max,\n",
    "}).reset_index()"
   ]
  },
  {
   "cell_type": "markdown",
   "metadata": {},
   "source": [
    "Como se puede ver en el código, estamos agrupando el DataFrame, df por \"Invoice\" e \"InvoiceDate\" y resumiendo todo las ventas. De esta manera, nuestro nuevo DataFrame, invoice_customer_df tiene un registro para cada orden de compra. El resultado se DataFrame se parece a lo siguiente:"
   ]
  },
  {
   "cell_type": "code",
   "execution_count": 30,
   "metadata": {},
   "outputs": [
    {
     "data": {
      "text/html": [
       "<div>\n",
       "<style scoped>\n",
       "    .dataframe tbody tr th:only-of-type {\n",
       "        vertical-align: middle;\n",
       "    }\n",
       "\n",
       "    .dataframe tbody tr th {\n",
       "        vertical-align: top;\n",
       "    }\n",
       "\n",
       "    .dataframe thead th {\n",
       "        text-align: right;\n",
       "    }\n",
       "</style>\n",
       "<table border=\"1\" class=\"dataframe\">\n",
       "  <thead>\n",
       "    <tr style=\"text-align: right;\">\n",
       "      <th></th>\n",
       "      <th>Invoice</th>\n",
       "      <th>InvoiceDate</th>\n",
       "      <th>Sales</th>\n",
       "      <th>Customer ID</th>\n",
       "      <th>Country</th>\n",
       "    </tr>\n",
       "  </thead>\n",
       "  <tbody>\n",
       "    <tr>\n",
       "      <th>0</th>\n",
       "      <td>489434</td>\n",
       "      <td>2009-12-01 07:45:00</td>\n",
       "      <td>364.90</td>\n",
       "      <td>13085.0</td>\n",
       "      <td>United Kingdom</td>\n",
       "    </tr>\n",
       "    <tr>\n",
       "      <th>1</th>\n",
       "      <td>489435</td>\n",
       "      <td>2009-12-01 07:46:00</td>\n",
       "      <td>145.80</td>\n",
       "      <td>13085.0</td>\n",
       "      <td>United Kingdom</td>\n",
       "    </tr>\n",
       "    <tr>\n",
       "      <th>2</th>\n",
       "      <td>489436</td>\n",
       "      <td>2009-12-01 09:06:00</td>\n",
       "      <td>436.60</td>\n",
       "      <td>13078.0</td>\n",
       "      <td>United Kingdom</td>\n",
       "    </tr>\n",
       "    <tr>\n",
       "      <th>3</th>\n",
       "      <td>489437</td>\n",
       "      <td>2009-12-01 09:08:00</td>\n",
       "      <td>310.75</td>\n",
       "      <td>15362.0</td>\n",
       "      <td>United Kingdom</td>\n",
       "    </tr>\n",
       "    <tr>\n",
       "      <th>4</th>\n",
       "      <td>489438</td>\n",
       "      <td>2009-12-01 09:24:00</td>\n",
       "      <td>2152.40</td>\n",
       "      <td>18102.0</td>\n",
       "      <td>United Kingdom</td>\n",
       "    </tr>\n",
       "  </tbody>\n",
       "</table>\n",
       "</div>"
      ],
      "text/plain": [
       "  Invoice         InvoiceDate    Sales  Customer ID         Country\n",
       "0  489434 2009-12-01 07:45:00   364.90      13085.0  United Kingdom\n",
       "1  489435 2009-12-01 07:46:00   145.80      13085.0  United Kingdom\n",
       "2  489436 2009-12-01 09:06:00   436.60      13078.0  United Kingdom\n",
       "3  489437 2009-12-01 09:08:00   310.75      15362.0  United Kingdom\n",
       "4  489438 2009-12-01 09:24:00  2152.40      18102.0  United Kingdom"
      ]
     },
     "execution_count": 30,
     "metadata": {},
     "output_type": "execute_result"
    }
   ],
   "source": [
    "invoice_customer_df.head()"
   ]
  },
  {
   "cell_type": "markdown",
   "metadata": {},
   "source": [
    "Como puede ver aquí, cada registro del DataFrameahora tiene toda la información que necesitamos para cada pedido. Ahora, necesitamos sumar estos datos por mes y calcular la cantidad de clientes que realizaron más de una compra en un mes determinado. "
   ]
  },
  {
   "cell_type": "code",
   "execution_count": 31,
   "metadata": {
    "scrolled": true
   },
   "outputs": [],
   "source": [
    "monthly_repeat_customers_df = invoice_customer_df.set_index('InvoiceDate').groupby([\n",
    "    pd.Grouper(freq='M'), 'Customer ID'\n",
    "]).filter(lambda x: len(x) > 1).resample('M').nunique()['Customer ID']"
   ]
  },
  {
   "cell_type": "markdown",
   "metadata": {},
   "source": [
    "Queremos recuperar solo a aquellos clientes con más de un pedido en un mes determinado. Por último, volvemos a muestrear y agregamos por mes y contamos el número de clientes únicos en cada mes usandogroupby función en este código. Aquí, agrupamos por dos condiciones: pd.Grouper(freq='M')y CustomerID. La primera groupbycondición,  pd.Grouper(freq='M')agrupa los datos por índice InvoiceDate, en cada mes. Luego, agrupamos estos datos por cada uno CustomerID. Usando la  filterfunción, podemos subseleccionar los datos mediante una regla personalizada. Aquí, la regla de filtrado  y .lambda x: len(x) > 1resample('M')nunique\n",
    "\n"
   ]
  },
  {
   "cell_type": "code",
   "execution_count": 32,
   "metadata": {},
   "outputs": [
    {
     "data": {
      "text/plain": [
       "InvoiceDate\n",
       "2009-12-31    284\n",
       "2010-01-31    141\n",
       "2010-02-28    169\n",
       "2010-03-31    233\n",
       "2010-04-30    193\n",
       "2010-05-31    220\n",
       "2010-06-30    251\n",
       "2010-07-31    246\n",
       "2010-08-31    214\n",
       "2010-09-30    263\n",
       "2010-10-31    349\n",
       "2010-11-30    519\n",
       "2010-12-31    259\n",
       "2011-01-31    143\n",
       "2011-02-28    150\n",
       "2011-03-31    195\n",
       "2011-04-30    160\n",
       "2011-05-31    272\n",
       "2011-06-30    209\n",
       "2011-07-31    225\n",
       "2011-08-31    187\n",
       "2011-09-30    266\n",
       "2011-10-31    311\n",
       "2011-11-30    527\n",
       "Freq: M, Name: Customer ID, dtype: int64"
      ]
     },
     "execution_count": 32,
     "metadata": {},
     "output_type": "execute_result"
    }
   ],
   "source": [
    "monthly_repeat_customers_df"
   ]
  },
  {
   "cell_type": "markdown",
   "metadata": {},
   "source": [
    "Echemos un vistazo más de cerca a la función groupby en este código. Aquí, agrupamos por dos condiciones: pd.Grouper (freq = 'M') y Customer ID. La primera condición groupby, pd.Grouper (freq = 'M'), agrupa los datos por el índice, InvoiceDate, en cada mes. Luego, agrupamos estos datos por cada Customer ID. Usando la función de filtro, podemos subseleccionar los datos mediante una regla personalizada. Aquí, la regla de filtrado, lambda x: len (x)> 1, significa que queremos recuperar aquellos con más de un registro en el grupo. En otras palabras, queremos recuperar solo a aquellos clientes con más de un pedido en un mes determinado. Por último, volvemos a muestrear y agregamos por cada mes y contamos el número de clientes únicos en cada mes mediante el uso de remuestreo ('M') y nunique"
   ]
  },
  {
   "cell_type": "code",
   "execution_count": 33,
   "metadata": {},
   "outputs": [],
   "source": [
    "monthly_unique_customers_df = df.set_index('InvoiceDate')['Customer ID'].resample('M').nunique()"
   ]
  },
  {
   "cell_type": "markdown",
   "metadata": {},
   "source": [
    "Comparemos ahora estos números con el número total de clientes mensuales. Puede utilizar el  código anterior para calcular el número total de clientes mensuales:"
   ]
  },
  {
   "cell_type": "code",
   "execution_count": 34,
   "metadata": {},
   "outputs": [
    {
     "data": {
      "text/plain": [
       "InvoiceDate\n",
       "2009-12-31     955\n",
       "2010-01-31     720\n",
       "2010-02-28     774\n",
       "2010-03-31    1057\n",
       "2010-04-30     942\n",
       "2010-05-31     966\n",
       "2010-06-30    1041\n",
       "2010-07-31     928\n",
       "2010-08-31     911\n",
       "2010-09-30    1145\n",
       "2010-10-31    1497\n",
       "2010-11-30    1607\n",
       "2010-12-31     885\n",
       "2011-01-31     741\n",
       "2011-02-28     758\n",
       "2011-03-31     974\n",
       "2011-04-30     856\n",
       "2011-05-31    1056\n",
       "2011-06-30     991\n",
       "2011-07-31     949\n",
       "2011-08-31     935\n",
       "2011-09-30    1266\n",
       "2011-10-31    1364\n",
       "2011-11-30    1665\n",
       "Freq: M, Name: Customer ID, dtype: int64"
      ]
     },
     "execution_count": 34,
     "metadata": {},
     "output_type": "execute_result"
    }
   ],
   "source": [
    "monthly_unique_customers_df"
   ]
  },
  {
   "cell_type": "markdown",
   "metadata": {},
   "source": [
    "Si compara estos dos conjuntos de números, aproximadamente del 20 al 30% de los clientes son clientes habituales. Puede utilizar el siguiente código para calcular los porcentajes de clientes habituales para cada mes:"
   ]
  },
  {
   "cell_type": "code",
   "execution_count": 35,
   "metadata": {},
   "outputs": [
    {
     "data": {
      "text/plain": [
       "InvoiceDate\n",
       "2009-12-31    29.947644\n",
       "2010-01-31    20.555556\n",
       "2010-02-28    22.609819\n",
       "2010-03-31    22.516556\n",
       "2010-04-30    21.549894\n",
       "2010-05-31    23.602484\n",
       "2010-06-30    24.783862\n",
       "2010-07-31    27.586207\n",
       "2010-08-31    24.478595\n",
       "2010-09-30    24.279476\n",
       "2010-10-31    23.847695\n",
       "2010-11-30    32.918482\n",
       "2010-12-31    29.717514\n",
       "2011-01-31    20.647773\n",
       "2011-02-28    20.184697\n",
       "2011-03-31    20.841889\n",
       "2011-04-30    19.859813\n",
       "2011-05-31    26.609848\n",
       "2011-06-30    22.199798\n",
       "2011-07-31    23.919916\n",
       "2011-08-31    21.176471\n",
       "2011-09-30    21.484992\n",
       "2011-10-31    23.753666\n",
       "2011-11-30    32.492492\n",
       "Freq: M, Name: Customer ID, dtype: float64"
      ]
     },
     "execution_count": 35,
     "metadata": {},
     "output_type": "execute_result"
    }
   ],
   "source": [
    "monthly_repeat_percentage = monthly_repeat_customers_df/monthly_unique_customers_df*100.0\n",
    "monthly_repeat_percentage"
   ]
  },
  {
   "cell_type": "code",
   "execution_count": 36,
   "metadata": {},
   "outputs": [
    {
     "data": {
      "image/png": "[encoded data removed]",
      "text/plain": [
       "<Figure size 720x504 with 2 Axes>"
      ]
     },
     "metadata": {
      "needs_background": "light"
     },
     "output_type": "display_data"
    }
   ],
   "source": [
    "ax = pd.DataFrame(monthly_repeat_customers_df.values).plot(\n",
    "    figsize=(10,7)\n",
    ")\n",
    "\n",
    "pd.DataFrame(monthly_unique_customers_df.values).plot(\n",
    "    ax=ax,\n",
    "    grid=True\n",
    ")\n",
    "\n",
    "\n",
    "ax2 = pd.DataFrame(monthly_repeat_percentage.values).plot.bar(\n",
    "    ax=ax,\n",
    "    grid=True,\n",
    "    secondary_y=True,\n",
    "    color='green',\n",
    "    alpha=0.2\n",
    ")\n",
    "\n",
    "ax.set_xlabel('date')\n",
    "ax.set_ylabel('number of customers')\n",
    "ax.set_title('Number of All vs. Repeat Customers Over Time')\n",
    "\n",
    "ax2.set_ylabel('percentage (%)')\n",
    "\n",
    "ax.legend(['Repeat Customers', 'All Customers'])\n",
    "ax2.legend(['Percentage of Repeat'], loc='upper right')\n",
    "\n",
    "ax.set_ylim([0, monthly_unique_customers_df.values.max()+100])\n",
    "ax2.set_ylim([0, 100])\n",
    "\n",
    "plt.xticks(\n",
    "    range(len(monthly_repeat_customers_df.index)), \n",
    "    [x.strftime('%m.%Y') for x in monthly_repeat_customers_df.index], \n",
    "    rotation=45\n",
    ")\n",
    "\n",
    "plt.show()"
   ]
  },
  {
   "cell_type": "markdown",
   "metadata": {},
   "source": [
    "En el código anterior, notará \"secondary_y=True\", en la funcion plot. Como sugiere el nombre, si configura secondary_y en True, creará un nuevo \"y\", podemos visualizar fácilmente datos con diferentes escalas en un gráfico. El eje en el lado derecho del gráfico . Esto es especialmente útil cuando desea visualizar dos conjuntos de datos con diferentes escalas. En nuestro caso, la escala para un conjunto de nuestros datos es el número de usuarios y la escala para otro conjunto de nuestros datos es el porcentaje. Usando esto secondary_y"
   ]
  },
  {
   "cell_type": "markdown",
   "metadata": {},
   "source": [
    "Como puede ver en este gráfico , el número de clientes que repiten y todos los clientes comienza a aumentar significativamente a partir de septiembre de 2011. El porcentaje de clientes queparece mantenerse bastante constante en alrededor del 20 al 30%. Este negocio minorista en línea se beneficiará de este flujo constante de , ya que ayudarán al negocio a generar un flujo estable de ventas. Ahora vamos a analizar qué parte de los ingresos mensuales proviene de éstos Clientes Recurrentes clientes habituales ."
   ]
  },
  {
   "cell_type": "markdown",
   "metadata": {},
   "source": [
    "#### - Revenue from Repeat Customers"
   ]
  },
  {
   "cell_type": "markdown",
   "metadata": {},
   "source": [
    "El siguiente código muestra cómo calcular los ingresos mensuales de clientes habituales :"
   ]
  },
  {
   "cell_type": "code",
   "execution_count": 34,
   "metadata": {},
   "outputs": [],
   "source": [
    "monthly_rev_repeat_customers_df = invoice_customer_df.set_index('InvoiceDate').groupby([\n",
    "    pd.Grouper(freq='M'), 'Customer ID'\n",
    "]).filter(lambda x: len(x) > 1).resample('M').sum()['Sales']"
   ]
  },
  {
   "cell_type": "markdown",
   "metadata": {},
   "source": [
    "La única diferencia entre este código y el código anterior es la función agregada, función para sumar todas las ventas de clientes habituales durante un mes determinado. Para la visualización, puede utilizar el siguiente código: sum, que sigue resample('M'). En el caso anterior, cuando estábamos calculando el número de clientes repetidos mensuales, usamos la  funcion nunique. Sin embargo, esta vez usamos la funcion \"sum\""
   ]
  },
  {
   "cell_type": "code",
   "execution_count": 35,
   "metadata": {},
   "outputs": [],
   "source": [
    "monthly_rev_perc_repeat_customers_df = monthly_rev_repeat_customers_df/monthly_revenue_df * 100.0"
   ]
  },
  {
   "cell_type": "code",
   "execution_count": 36,
   "metadata": {},
   "outputs": [
    {
     "data": {
      "text/plain": [
       "InvoiceDate\n",
       "2009-12-31    350564.610\n",
       "2010-01-31    253752.671\n",
       "2010-02-28    206272.182\n",
       "2010-03-31    281143.501\n",
       "2010-04-30    220758.910\n",
       "2010-05-31    231765.750\n",
       "2010-06-30    273649.490\n",
       "2010-07-31    262123.270\n",
       "2010-08-31    250841.230\n",
       "2010-09-30    347865.921\n",
       "2010-10-31    426596.610\n",
       "2010-11-30    564449.502\n",
       "2010-12-31    455541.650\n",
       "2011-01-31    172143.000\n",
       "2011-02-28    153877.060\n",
       "2011-03-31    212256.080\n",
       "2011-04-30    150056.740\n",
       "2011-05-31    301904.220\n",
       "2011-06-30    303710.520\n",
       "2011-07-31    259017.480\n",
       "2011-08-31    254052.900\n",
       "2011-09-30    391729.770\n",
       "2011-10-31    464749.520\n",
       "2011-11-30    573054.420\n",
       "Freq: M, Name: Sales, dtype: float64"
      ]
     },
     "execution_count": 36,
     "metadata": {},
     "output_type": "execute_result"
    }
   ],
   "source": [
    "monthly_rev_repeat_customers_df"
   ]
  },
  {
   "cell_type": "markdown",
   "metadata": {},
   "source": [
    "Una cosa a tener en cuenta en este código es la línea ax2 = ax.twinx(). Esto esencialmente hace el mismo trabajo que la secondary_y que discutimos anteriormente. La funcion twinx simplemente crea un eje y gemelo que comparte el mismo eje x y tiene el mismo efecto que la secondary_y. El gráfico resultante tiene el siguiente aspecto:"
   ]
  },
  {
   "cell_type": "code",
   "execution_count": 37,
   "metadata": {},
   "outputs": [
    {
     "data": {
      "image/png": "[encoded data removed]",
      "text/plain": [
       "<Figure size 864x648 with 2 Axes>"
      ]
     },
     "metadata": {
      "needs_background": "light"
     },
     "output_type": "display_data"
    }
   ],
   "source": [
    "ax = pd.DataFrame(monthly_revenue_df.values).plot(figsize=(12,9))\n",
    "\n",
    "pd.DataFrame(monthly_rev_repeat_customers_df.values).plot(\n",
    "    ax=ax,\n",
    "    grid=True,\n",
    ")\n",
    "\n",
    "ax.set_xlabel('date')\n",
    "ax.set_ylabel('sales')\n",
    "ax.set_title('Total Revenue vs. Revenue from Repeat Customers')\n",
    "\n",
    "ax.legend(['Total Revenue', 'Repeat Customer Revenue'])\n",
    "\n",
    "ax.set_ylim([0, max(monthly_revenue_df.values)+100000])\n",
    "\n",
    "ax2 = ax.twinx()\n",
    "\n",
    "pd.DataFrame(monthly_rev_perc_repeat_customers_df.values).plot(\n",
    "    ax=ax2,\n",
    "    kind='bar',\n",
    "    color='g',\n",
    "    alpha=0.2\n",
    ")\n",
    "\n",
    "ax2.set_ylim([0, max(monthly_rev_perc_repeat_customers_df.values)+30])\n",
    "ax2.set_ylabel('percentage (%)')\n",
    "ax2.legend(['Repeat Revenue Percentage'])\n",
    "\n",
    "ax2.set_xticklabels([\n",
    "    x.strftime('%m.%Y') for x in monthly_rev_perc_repeat_customers_df.index\n",
    "])\n",
    "\n",
    "plt.show()"
   ]
  },
  {
   "cell_type": "markdown",
   "metadata": {},
   "source": [
    "Vemos un patrón similar al anterior, donde hay un aumento significativo en los ingresos desde septiembre de 2011. Una cosa interesante a notar aquí es el porcentaje de los ingresos mensuales de los clientes habituales. Hemos  visto que aproximadamente el 20-30% de los clientes que realizaron compras son clientes habituales. Sin embargo, en este gráfico, podemos ver que aproximadamente el 40-50% de los ingresos totales es de clientes habituales. En otras palabras, aproximadamente la mitad de los ingresos provino del 20-30% de la base de clientes que son clientes habituales. Esto muestra lo importante que es retener a los clientes existentes."
   ]
  },
  {
   "cell_type": "markdown",
   "metadata": {},
   "source": [
    "#### - Popular Items Over Time"
   ]
  },
  {
   "cell_type": "markdown",
   "metadata": {},
   "source": [
    "Hasta ahora, hemos analizado los patrones generales de series de tiempo y cómo los clientes interactúan con el negocio en general, pero no cómo los clientes interactúan con productos individuales. En esta sección, vamos a explorar y analizar cómo los clientes interactúan con los productos individuales que se venden. Más específicamente , analizaremos las tendencias de los cinco más vendidos a lo largo del tiempo.\n",
    "Para el análisis de artículos de tendencia de series de tiempo, contemos el número de artículos vendidos para cada producto para cada período. Eche un vistazo al siguiente código:"
   ]
  },
  {
   "cell_type": "code",
   "execution_count": 38,
   "metadata": {
    "scrolled": true
   },
   "outputs": [
    {
     "data": {
      "text/html": [
       "<div>\n",
       "<style scoped>\n",
       "    .dataframe tbody tr th:only-of-type {\n",
       "        vertical-align: middle;\n",
       "    }\n",
       "\n",
       "    .dataframe tbody tr th {\n",
       "        vertical-align: top;\n",
       "    }\n",
       "\n",
       "    .dataframe thead th {\n",
       "        text-align: right;\n",
       "    }\n",
       "</style>\n",
       "<table border=\"1\" class=\"dataframe\">\n",
       "  <thead>\n",
       "    <tr style=\"text-align: right;\">\n",
       "      <th></th>\n",
       "      <th></th>\n",
       "      <th>Quantity</th>\n",
       "    </tr>\n",
       "    <tr>\n",
       "      <th>InvoiceDate</th>\n",
       "      <th>StockCode</th>\n",
       "      <th></th>\n",
       "    </tr>\n",
       "  </thead>\n",
       "  <tbody>\n",
       "    <tr>\n",
       "      <th rowspan=\"5\" valign=\"top\">2009-12-31</th>\n",
       "      <th>10002</th>\n",
       "      <td>166</td>\n",
       "    </tr>\n",
       "    <tr>\n",
       "      <th>10002R</th>\n",
       "      <td>3</td>\n",
       "    </tr>\n",
       "    <tr>\n",
       "      <th>10080</th>\n",
       "      <td>2</td>\n",
       "    </tr>\n",
       "    <tr>\n",
       "      <th>10109</th>\n",
       "      <td>4</td>\n",
       "    </tr>\n",
       "    <tr>\n",
       "      <th>10120</th>\n",
       "      <td>43</td>\n",
       "    </tr>\n",
       "    <tr>\n",
       "      <th>...</th>\n",
       "      <th>...</th>\n",
       "      <td>...</td>\n",
       "    </tr>\n",
       "    <tr>\n",
       "      <th rowspan=\"5\" valign=\"top\">2011-11-30</th>\n",
       "      <th>BANK CHARGES</th>\n",
       "      <td>1</td>\n",
       "    </tr>\n",
       "    <tr>\n",
       "      <th>C2</th>\n",
       "      <td>171</td>\n",
       "    </tr>\n",
       "    <tr>\n",
       "      <th>DOT</th>\n",
       "      <td>39</td>\n",
       "    </tr>\n",
       "    <tr>\n",
       "      <th>M</th>\n",
       "      <td>3861</td>\n",
       "    </tr>\n",
       "    <tr>\n",
       "      <th>POST</th>\n",
       "      <td>1184</td>\n",
       "    </tr>\n",
       "  </tbody>\n",
       "</table>\n",
       "<p>62683 rows × 1 columns</p>\n",
       "</div>"
      ],
      "text/plain": [
       "                          Quantity\n",
       "InvoiceDate StockCode             \n",
       "2009-12-31  10002              166\n",
       "            10002R               3\n",
       "            10080                2\n",
       "            10109                4\n",
       "            10120               43\n",
       "...                            ...\n",
       "2011-11-30  BANK CHARGES         1\n",
       "            C2                 171\n",
       "            DOT                 39\n",
       "            M                 3861\n",
       "            POST              1184\n",
       "\n",
       "[62683 rows x 1 columns]"
      ]
     },
     "execution_count": 38,
     "metadata": {},
     "output_type": "execute_result"
    }
   ],
   "source": [
    "date_item_df = pd.DataFrame(\n",
    "    df.set_index('InvoiceDate').groupby([\n",
    "        pd.Grouper(freq='M'), 'StockCode'\n",
    "    ])['Quantity'].sum()\n",
    ")\n",
    "date_item_df"
   ]
  },
  {
   "cell_type": "markdown",
   "metadata": {},
   "source": [
    "Como puede ver en este fragmento de código, estamos agrupando el DataFrame, df pr mes con  StockCode, que es el código único para cada producto, y luego sumamos las cantidades vendidas para cada mes y StockCode. Los primeros nueve registros del resultado se pueden en la tabla anterior."
   ]
  },
  {
   "cell_type": "markdown",
   "metadata": {},
   "source": [
    "Con estos datos data_item_df, veamos qué artículos se vendieron más el 30 de noviembre de 2011. Eche un vistazo al siguiente código:"
   ]
  },
  {
   "cell_type": "markdown",
   "metadata": {},
   "source": [
    "Como se puede ver en el código, podemos utilizar la  funcion \"sort_values\" para ordenar un DataFrame con pandas por cualquier columna que queremos, proporcionando el nombre de la columna en la entrada de argumento. Aquí, estamos ordenando los datos por columna Quantity, en orden descendente, colocando la etiqueta: ascending en False. El resultado se parece al siguiente:"
   ]
  },
  {
   "cell_type": "code",
   "execution_count": 39,
   "metadata": {
    "scrolled": true
   },
   "outputs": [
    {
     "data": {
      "text/html": [
       "<div>\n",
       "<style scoped>\n",
       "    .dataframe tbody tr th:only-of-type {\n",
       "        vertical-align: middle;\n",
       "    }\n",
       "\n",
       "    .dataframe tbody tr th {\n",
       "        vertical-align: top;\n",
       "    }\n",
       "\n",
       "    .dataframe thead th {\n",
       "        text-align: right;\n",
       "    }\n",
       "</style>\n",
       "<table border=\"1\" class=\"dataframe\">\n",
       "  <thead>\n",
       "    <tr style=\"text-align: right;\">\n",
       "      <th></th>\n",
       "      <th>InvoiceDate</th>\n",
       "      <th>StockCode</th>\n",
       "      <th>Quantity</th>\n",
       "    </tr>\n",
       "  </thead>\n",
       "  <tbody>\n",
       "    <tr>\n",
       "      <th>0</th>\n",
       "      <td>2011-11-30</td>\n",
       "      <td>84826</td>\n",
       "      <td>12551</td>\n",
       "    </tr>\n",
       "    <tr>\n",
       "      <th>1</th>\n",
       "      <td>2011-11-30</td>\n",
       "      <td>23084</td>\n",
       "      <td>12342</td>\n",
       "    </tr>\n",
       "    <tr>\n",
       "      <th>2</th>\n",
       "      <td>2011-11-30</td>\n",
       "      <td>22197</td>\n",
       "      <td>10132</td>\n",
       "    </tr>\n",
       "    <tr>\n",
       "      <th>3</th>\n",
       "      <td>2011-11-30</td>\n",
       "      <td>22086</td>\n",
       "      <td>7026</td>\n",
       "    </tr>\n",
       "    <tr>\n",
       "      <th>4</th>\n",
       "      <td>2011-11-30</td>\n",
       "      <td>85123A</td>\n",
       "      <td>4563</td>\n",
       "    </tr>\n",
       "    <tr>\n",
       "      <th>...</th>\n",
       "      <td>...</td>\n",
       "      <td>...</td>\n",
       "      <td>...</td>\n",
       "    </tr>\n",
       "    <tr>\n",
       "      <th>2885</th>\n",
       "      <td>2011-11-30</td>\n",
       "      <td>84249A</td>\n",
       "      <td>1</td>\n",
       "    </tr>\n",
       "    <tr>\n",
       "      <th>2886</th>\n",
       "      <td>2011-11-30</td>\n",
       "      <td>90010A</td>\n",
       "      <td>1</td>\n",
       "    </tr>\n",
       "    <tr>\n",
       "      <th>2887</th>\n",
       "      <td>2011-11-30</td>\n",
       "      <td>90011B</td>\n",
       "      <td>1</td>\n",
       "    </tr>\n",
       "    <tr>\n",
       "      <th>2888</th>\n",
       "      <td>2011-11-30</td>\n",
       "      <td>90011C</td>\n",
       "      <td>1</td>\n",
       "    </tr>\n",
       "    <tr>\n",
       "      <th>2889</th>\n",
       "      <td>2011-11-30</td>\n",
       "      <td>71496B</td>\n",
       "      <td>1</td>\n",
       "    </tr>\n",
       "  </tbody>\n",
       "</table>\n",
       "<p>2890 rows × 3 columns</p>\n",
       "</div>"
      ],
      "text/plain": [
       "     InvoiceDate StockCode  Quantity\n",
       "0     2011-11-30     84826     12551\n",
       "1     2011-11-30     23084     12342\n",
       "2     2011-11-30     22197     10132\n",
       "3     2011-11-30     22086      7026\n",
       "4     2011-11-30    85123A      4563\n",
       "...          ...       ...       ...\n",
       "2885  2011-11-30    84249A         1\n",
       "2886  2011-11-30    90010A         1\n",
       "2887  2011-11-30    90011B         1\n",
       "2888  2011-11-30    90011C         1\n",
       "2889  2011-11-30    71496B         1\n",
       "\n",
       "[2890 rows x 3 columns]"
      ]
     },
     "execution_count": 39,
     "metadata": {},
     "output_type": "execute_result"
    }
   ],
   "source": [
    "# Rank items by the last month sales\n",
    "last_month_sorted_df = date_item_df.loc['2011-11-30'].sort_values(\n",
    "    by='Quantity', ascending=False\n",
    ").reset_index()\n",
    "\n",
    "last_month_sorted_df"
   ]
  },
  {
   "cell_type": "markdown",
   "metadata": {},
   "source": []
  },
  {
   "cell_type": "code",
   "execution_count": 40,
   "metadata": {
    "scrolled": true
   },
   "outputs": [
    {
     "data": {
      "text/html": [
       "<div>\n",
       "<style scoped>\n",
       "    .dataframe tbody tr th:only-of-type {\n",
       "        vertical-align: middle;\n",
       "    }\n",
       "\n",
       "    .dataframe tbody tr th {\n",
       "        vertical-align: top;\n",
       "    }\n",
       "\n",
       "    .dataframe thead th {\n",
       "        text-align: right;\n",
       "    }\n",
       "</style>\n",
       "<table border=\"1\" class=\"dataframe\">\n",
       "  <thead>\n",
       "    <tr style=\"text-align: right;\">\n",
       "      <th></th>\n",
       "      <th></th>\n",
       "      <th>Quantity</th>\n",
       "    </tr>\n",
       "    <tr>\n",
       "      <th>InvoiceDate</th>\n",
       "      <th>StockCode</th>\n",
       "      <th></th>\n",
       "    </tr>\n",
       "  </thead>\n",
       "  <tbody>\n",
       "    <tr>\n",
       "      <th>2009-12-31</th>\n",
       "      <th>85099B</th>\n",
       "      <td>2897</td>\n",
       "    </tr>\n",
       "    <tr>\n",
       "      <th>2010-01-31</th>\n",
       "      <th>85099B</th>\n",
       "      <td>2575</td>\n",
       "    </tr>\n",
       "    <tr>\n",
       "      <th>2010-02-28</th>\n",
       "      <th>85099B</th>\n",
       "      <td>2193</td>\n",
       "    </tr>\n",
       "    <tr>\n",
       "      <th>2010-03-31</th>\n",
       "      <th>85099B</th>\n",
       "      <td>2681</td>\n",
       "    </tr>\n",
       "    <tr>\n",
       "      <th>2010-04-30</th>\n",
       "      <th>85099B</th>\n",
       "      <td>3192</td>\n",
       "    </tr>\n",
       "    <tr>\n",
       "      <th>2010-05-31</th>\n",
       "      <th>85099B</th>\n",
       "      <td>3147</td>\n",
       "    </tr>\n",
       "    <tr>\n",
       "      <th>2010-06-30</th>\n",
       "      <th>85099B</th>\n",
       "      <td>3801</td>\n",
       "    </tr>\n",
       "    <tr>\n",
       "      <th>2010-07-31</th>\n",
       "      <th>85099B</th>\n",
       "      <td>2875</td>\n",
       "    </tr>\n",
       "    <tr>\n",
       "      <th>2010-08-31</th>\n",
       "      <th>85099B</th>\n",
       "      <td>1308</td>\n",
       "    </tr>\n",
       "    <tr>\n",
       "      <th>2010-09-30</th>\n",
       "      <th>85099B</th>\n",
       "      <td>4821</td>\n",
       "    </tr>\n",
       "    <tr>\n",
       "      <th>2010-10-31</th>\n",
       "      <th>85099B</th>\n",
       "      <td>3419</td>\n",
       "    </tr>\n",
       "    <tr>\n",
       "      <th>2010-11-30</th>\n",
       "      <th>85099B</th>\n",
       "      <td>5208</td>\n",
       "    </tr>\n",
       "    <tr>\n",
       "      <th>2010-12-31</th>\n",
       "      <th>85099B</th>\n",
       "      <td>2557</td>\n",
       "    </tr>\n",
       "    <tr>\n",
       "      <th>2011-01-31</th>\n",
       "      <th>85099B</th>\n",
       "      <td>2243</td>\n",
       "    </tr>\n",
       "    <tr>\n",
       "      <th>2011-02-28</th>\n",
       "      <th>85099B</th>\n",
       "      <td>2332</td>\n",
       "    </tr>\n",
       "    <tr>\n",
       "      <th>2011-03-31</th>\n",
       "      <th>85099B</th>\n",
       "      <td>5018</td>\n",
       "    </tr>\n",
       "    <tr>\n",
       "      <th>2011-04-30</th>\n",
       "      <th>85099B</th>\n",
       "      <td>2160</td>\n",
       "    </tr>\n",
       "    <tr>\n",
       "      <th>2011-05-31</th>\n",
       "      <th>85099B</th>\n",
       "      <td>2507</td>\n",
       "    </tr>\n",
       "    <tr>\n",
       "      <th>2011-06-30</th>\n",
       "      <th>85099B</th>\n",
       "      <td>2888</td>\n",
       "    </tr>\n",
       "    <tr>\n",
       "      <th>2011-07-31</th>\n",
       "      <th>85099B</th>\n",
       "      <td>2271</td>\n",
       "    </tr>\n",
       "    <tr>\n",
       "      <th>2011-08-31</th>\n",
       "      <th>85099B</th>\n",
       "      <td>4748</td>\n",
       "    </tr>\n",
       "    <tr>\n",
       "      <th>2011-09-30</th>\n",
       "      <th>85099B</th>\n",
       "      <td>3947</td>\n",
       "    </tr>\n",
       "    <tr>\n",
       "      <th>2011-10-31</th>\n",
       "      <th>85099B</th>\n",
       "      <td>4475</td>\n",
       "    </tr>\n",
       "    <tr>\n",
       "      <th>2011-11-30</th>\n",
       "      <th>85099B</th>\n",
       "      <td>4369</td>\n",
       "    </tr>\n",
       "  </tbody>\n",
       "</table>\n",
       "</div>"
      ],
      "text/plain": [
       "                       Quantity\n",
       "InvoiceDate StockCode          \n",
       "2009-12-31  85099B         2897\n",
       "2010-01-31  85099B         2575\n",
       "2010-02-28  85099B         2193\n",
       "2010-03-31  85099B         2681\n",
       "2010-04-30  85099B         3192\n",
       "2010-05-31  85099B         3147\n",
       "2010-06-30  85099B         3801\n",
       "2010-07-31  85099B         2875\n",
       "2010-08-31  85099B         1308\n",
       "2010-09-30  85099B         4821\n",
       "2010-10-31  85099B         3419\n",
       "2010-11-30  85099B         5208\n",
       "2010-12-31  85099B         2557\n",
       "2011-01-31  85099B         2243\n",
       "2011-02-28  85099B         2332\n",
       "2011-03-31  85099B         5018\n",
       "2011-04-30  85099B         2160\n",
       "2011-05-31  85099B         2507\n",
       "2011-06-30  85099B         2888\n",
       "2011-07-31  85099B         2271\n",
       "2011-08-31  85099B         4748\n",
       "2011-09-30  85099B         3947\n",
       "2011-10-31  85099B         4475\n",
       "2011-11-30  85099B         4369"
      ]
     },
     "execution_count": 40,
     "metadata": {},
     "output_type": "execute_result"
    }
   ],
   "source": [
    "# Regroup for top 5 items\n",
    "date_item_df = pd.DataFrame(\n",
    "    df.loc[\n",
    "        df['StockCode'].isin([23084, 84826, 22197, 22086, '85099B'])\n",
    "    ].set_index('InvoiceDate').groupby([\n",
    "        pd.Grouper(freq='M'), 'StockCode'\n",
    "    ])['Quantity'].sum()\n",
    ")\n",
    "date_item_df"
   ]
  },
  {
   "cell_type": "code",
   "execution_count": 41,
   "metadata": {},
   "outputs": [
    {
     "data": {
      "text/html": [
       "<div>\n",
       "<style scoped>\n",
       "    .dataframe tbody tr th:only-of-type {\n",
       "        vertical-align: middle;\n",
       "    }\n",
       "\n",
       "    .dataframe tbody tr th {\n",
       "        vertical-align: top;\n",
       "    }\n",
       "\n",
       "    .dataframe thead th {\n",
       "        text-align: right;\n",
       "    }\n",
       "</style>\n",
       "<table border=\"1\" class=\"dataframe\">\n",
       "  <thead>\n",
       "    <tr style=\"text-align: right;\">\n",
       "      <th>StockCode</th>\n",
       "      <th>85099B</th>\n",
       "    </tr>\n",
       "    <tr>\n",
       "      <th>InvoiceDate</th>\n",
       "      <th></th>\n",
       "    </tr>\n",
       "  </thead>\n",
       "  <tbody>\n",
       "    <tr>\n",
       "      <th>2009-12-31</th>\n",
       "      <td>2897</td>\n",
       "    </tr>\n",
       "    <tr>\n",
       "      <th>2010-01-31</th>\n",
       "      <td>2575</td>\n",
       "    </tr>\n",
       "    <tr>\n",
       "      <th>2010-02-28</th>\n",
       "      <td>2193</td>\n",
       "    </tr>\n",
       "    <tr>\n",
       "      <th>2010-03-31</th>\n",
       "      <td>2681</td>\n",
       "    </tr>\n",
       "    <tr>\n",
       "      <th>2010-04-30</th>\n",
       "      <td>3192</td>\n",
       "    </tr>\n",
       "    <tr>\n",
       "      <th>2010-05-31</th>\n",
       "      <td>3147</td>\n",
       "    </tr>\n",
       "    <tr>\n",
       "      <th>2010-06-30</th>\n",
       "      <td>3801</td>\n",
       "    </tr>\n",
       "    <tr>\n",
       "      <th>2010-07-31</th>\n",
       "      <td>2875</td>\n",
       "    </tr>\n",
       "    <tr>\n",
       "      <th>2010-08-31</th>\n",
       "      <td>1308</td>\n",
       "    </tr>\n",
       "    <tr>\n",
       "      <th>2010-09-30</th>\n",
       "      <td>4821</td>\n",
       "    </tr>\n",
       "    <tr>\n",
       "      <th>2010-10-31</th>\n",
       "      <td>3419</td>\n",
       "    </tr>\n",
       "    <tr>\n",
       "      <th>2010-11-30</th>\n",
       "      <td>5208</td>\n",
       "    </tr>\n",
       "    <tr>\n",
       "      <th>2010-12-31</th>\n",
       "      <td>2557</td>\n",
       "    </tr>\n",
       "    <tr>\n",
       "      <th>2011-01-31</th>\n",
       "      <td>2243</td>\n",
       "    </tr>\n",
       "    <tr>\n",
       "      <th>2011-02-28</th>\n",
       "      <td>2332</td>\n",
       "    </tr>\n",
       "    <tr>\n",
       "      <th>2011-03-31</th>\n",
       "      <td>5018</td>\n",
       "    </tr>\n",
       "    <tr>\n",
       "      <th>2011-04-30</th>\n",
       "      <td>2160</td>\n",
       "    </tr>\n",
       "    <tr>\n",
       "      <th>2011-05-31</th>\n",
       "      <td>2507</td>\n",
       "    </tr>\n",
       "    <tr>\n",
       "      <th>2011-06-30</th>\n",
       "      <td>2888</td>\n",
       "    </tr>\n",
       "    <tr>\n",
       "      <th>2011-07-31</th>\n",
       "      <td>2271</td>\n",
       "    </tr>\n",
       "    <tr>\n",
       "      <th>2011-08-31</th>\n",
       "      <td>4748</td>\n",
       "    </tr>\n",
       "    <tr>\n",
       "      <th>2011-09-30</th>\n",
       "      <td>3947</td>\n",
       "    </tr>\n",
       "    <tr>\n",
       "      <th>2011-10-31</th>\n",
       "      <td>4475</td>\n",
       "    </tr>\n",
       "    <tr>\n",
       "      <th>2011-11-30</th>\n",
       "      <td>4369</td>\n",
       "    </tr>\n",
       "  </tbody>\n",
       "</table>\n",
       "</div>"
      ],
      "text/plain": [
       "StockCode    85099B\n",
       "InvoiceDate        \n",
       "2009-12-31     2897\n",
       "2010-01-31     2575\n",
       "2010-02-28     2193\n",
       "2010-03-31     2681\n",
       "2010-04-30     3192\n",
       "2010-05-31     3147\n",
       "2010-06-30     3801\n",
       "2010-07-31     2875\n",
       "2010-08-31     1308\n",
       "2010-09-30     4821\n",
       "2010-10-31     3419\n",
       "2010-11-30     5208\n",
       "2010-12-31     2557\n",
       "2011-01-31     2243\n",
       "2011-02-28     2332\n",
       "2011-03-31     5018\n",
       "2011-04-30     2160\n",
       "2011-05-31     2507\n",
       "2011-06-30     2888\n",
       "2011-07-31     2271\n",
       "2011-08-31     4748\n",
       "2011-09-30     3947\n",
       "2011-10-31     4475\n",
       "2011-11-30     4369"
      ]
     },
     "execution_count": 41,
     "metadata": {},
     "output_type": "execute_result"
    }
   ],
   "source": [
    "trending_itmes_df = date_item_df.reset_index().pivot('InvoiceDate','StockCode').fillna(0)\n",
    "\n",
    "trending_itmes_df = trending_itmes_df.reset_index()\n",
    "trending_itmes_df = trending_itmes_df.set_index('InvoiceDate')\n",
    "trending_itmes_df.columns = trending_itmes_df.columns.droplevel(0)\n",
    "\n",
    "trending_itmes_df"
   ]
  },
  {
   "cell_type": "code",
   "execution_count": 42,
   "metadata": {},
   "outputs": [
    {
     "data": {
      "image/png": "[encoded data removed]",
      "text/plain": [
       "<Figure size 720x504 with 1 Axes>"
      ]
     },
     "metadata": {
      "needs_background": "light"
     },
     "output_type": "display_data"
    }
   ],
   "source": [
    "ax = pd.DataFrame(trending_itmes_df.values).plot(\n",
    "    figsize=(10,7),\n",
    "    grid=True,\n",
    ")\n",
    "\n",
    "ax.set_ylabel('number of purchases')\n",
    "ax.set_xlabel('date')\n",
    "ax.set_title('Item Trends over Time')\n",
    "\n",
    "ax.legend(trending_itmes_df.columns, loc='upper left')\n",
    "\n",
    "plt.xticks(\n",
    "    range(len(trending_itmes_df.index)), \n",
    "    [x.strftime('%m.%Y') for x in trending_itmes_df.index], \n",
    "    rotation=45\n",
    ")\n",
    "\n",
    "plt.show()"
   ]
  },
  {
   "cell_type": "code",
   "execution_count": null,
   "metadata": {},
   "outputs": [],
   "source": []
  }
 ],
 "metadata": {
  "interpreter": {
   "hash": "daefe10391fab28efd47c725c790d988bed9ae43bb63bddb4662f55e2c9b1dab"
  },
  "kernelspec": {
   "display_name": "Python 3.10.0 64-bit ('codeframe': venv)",
   "name": "python3"
  },
  "language_info": {
   "codemirror_mode": {
    "name": "ipython",
    "version": 3
   },
   "file_extension": ".py",
   "mimetype": "text/x-python",
   "name": "python",
   "nbconvert_exporter": "python",
   "pygments_lexer": "ipython3",
   "version": "3.10.0"
  }
 },
 "nbformat": 4,
 "nbformat_minor": 2
}
